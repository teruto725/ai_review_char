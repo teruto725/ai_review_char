{
 "metadata": {
  "language_info": {
   "codemirror_mode": {
    "name": "ipython",
    "version": 3
   },
   "file_extension": ".py",
   "mimetype": "text/x-python",
   "name": "python",
   "nbconvert_exporter": "python",
   "pygments_lexer": "ipython3",
   "version": "3.8.5-final"
  },
  "orig_nbformat": 2,
  "kernelspec": {
   "name": "python3",
   "display_name": "Python 3",
   "language": "python"
  }
 },
 "nbformat": 4,
 "nbformat_minor": 2,
 "cells": [
  {
   "cell_type": "code",
   "execution_count": 74,
   "metadata": {},
   "outputs": [],
   "source": [
    "import numpy as np\n",
    "import pandas as pd\n",
    "import matplotlib.pyplot as plt\n",
    "import cv2\n",
    "import math\n",
    "from models import my_cv\n",
    "from models.models import *\n",
    "from models.database import *"
   ]
  },
  {
   "cell_type": "code",
   "execution_count": 2,
   "metadata": {},
   "outputs": [
    {
     "output_type": "execute_result",
     "data": {
      "text/plain": [
       "'\\nfor i in range(1,13):\\n    img_ori = cv2.imread(\\'./sample_images/train/\\'+str(i)+\\'.png\\')#画像読み込み\\n    print(np.shape(img_ori))\\n    #my_cv.display_color(img_ori)\\n    #紙の部分を切り出す\\n    img_paper = my_cv.cutting_paper(img_ori)\\n    my_cv.display_color(img_paper,output_file_path = \"./tmp/paper.png\")\\n    paper = Paper(img_paper,\"Sho\",\"Mizu\")\\n    score1s , score2s = paper.get_scores(True)\\n'"
      ]
     },
     "metadata": {},
     "execution_count": 2
    }
   ],
   "source": [
    "#データセットの作成\n",
    "\"\"\"\n",
    "for i in range(1,13):\n",
    "    img_ori = cv2.imread('./sample_images/train/'+str(i)+'.png')#画像読み込み\n",
    "    print(np.shape(img_ori))\n",
    "    #my_cv.display_color(img_ori)\n",
    "    #紙の部分を切り出す\n",
    "    img_paper = my_cv.cutting_paper(img_ori)\n",
    "    my_cv.display_color(img_paper,output_file_path = \"./tmp/paper.png\")\n",
    "    paper = Paper(img_paper,\"Sho\",\"Mizu\")\n",
    "    score1s , score2s = paper.get_scores(True)\n",
    "\"\"\""
   ]
  },
  {
   "cell_type": "code",
   "execution_count": 3,
   "metadata": {},
   "outputs": [
    {
     "output_type": "execute_result",
     "data": {
      "text/plain": [
       "'\\ndf = DB.get_df()\\nfor i, row in df.iterrows():\\n    img = cv2.imread(row[\"img_char_path\"])\\n    my_cv.display_color(img)\\n    img = cv2.imread(row[\"img_rec_path\"],-1)\\n    my_cv.display_color(img)\\n    label  = input()\\n    df.loc[i,\"label\"] = int(label)\\nDB.save(df)\\n'"
      ]
     },
     "metadata": {},
     "execution_count": 3
    }
   ],
   "source": [
    "#labeling\n",
    "\"\"\"\n",
    "df = DB.get_df()\n",
    "for i, row in df.iterrows():\n",
    "    img = cv2.imread(row[\"img_char_path\"])\n",
    "    my_cv.display_color(img)\n",
    "    img = cv2.imread(row[\"img_rec_path\"],-1)\n",
    "    my_cv.display_color(img)\n",
    "    label  = input()\n",
    "    df.loc[i,\"label\"] = int(label)\n",
    "DB.save(df)\n",
    "\"\"\""
   ]
  },
  {
   "cell_type": "code",
   "execution_count": 22,
   "metadata": {},
   "outputs": [],
   "source": [
    "#ラベルの抽出\n",
    "df = DB.get_df()\n",
    "Y = df[\"label\"].values.astype(np.int32)# ラベル\n",
    "\n"
   ]
  },
  {
   "cell_type": "code",
   "execution_count": 23,
   "metadata": {},
   "outputs": [],
   "source": [
    "X_arr = None #説明変数\n",
    "X_arr = np.stack([cv2.imread(path,0) for path in df[\"img_rec_path\"] ])\n",
    "X_arr = X_arr.reshape((len(X_arr), 1, 20, 20)).astype(np.float32)"
   ]
  },
  {
   "cell_type": "code",
   "execution_count": 24,
   "metadata": {},
   "outputs": [
    {
     "output_type": "stream",
     "name": "stdout",
     "text": [
      "(192, 1, 20, 20)\n"
     ]
    }
   ],
   "source": [
    "#分割\n",
    "from sklearn.model_selection import train_test_split\n",
    "X_train, X_test, Y_train, Y_test = train_test_split(X_arr, Y, test_size=0.2, random_state=0) #分割\n",
    "#型変換\n",
    "X_train = X_train.astype(np.float32)\n",
    "X_train /= 255\n",
    "X_test = X_test.astype(np.float32)\n",
    "X_test /= 255\n",
    "print(X_train.shape)"
   ]
  },
  {
   "cell_type": "code",
   "execution_count": 54,
   "metadata": {},
   "outputs": [],
   "source": [
    "#CNN\n",
    "from chainer import Sequential\n",
    "import chainer.functions as F\n",
    "import chainer.links as L\n",
    "import chainer\n",
    "from chainer import Chain, optimizers, Variable, serializers\n",
    "\n",
    "class CNN(Chain):#出力数を受け取ってcnnを作成する\n",
    "    def __init__(self):\n",
    "        output_num = 2\n",
    "        super(CNN, self).__init__(\n",
    "            conv1 = L.Convolution2D(1, 32, 5), # filter 5\n",
    "            conv2 = L.Convolution2D(32, 64, 5), # filter 5\n",
    "            l1 = L.Linear(256, 200),\n",
    "            l2 = L.Linear(200, 300),\n",
    "            l3 = L.Linear(300, output_num, initialW=np.zeros((output_num, 300), dtype=np.float32))\n",
    "        )\n",
    "    def forward(self, x):\n",
    "        h = F.max_pooling_2d(F.relu(self.conv1(x)), 2)\n",
    "        h = F.max_pooling_2d(F.relu(self.conv2(h)), 2)\n",
    "        h = F.relu(self.l1(h))\n",
    "        h = F.relu(self.l2(h))\n",
    "        h = self.l3(h)\n",
    "        return h\n"
   ]
  },
  {
   "cell_type": "code",
   "execution_count": 60,
   "metadata": {
    "tags": []
   },
   "outputs": [
    {
     "output_type": "stream",
     "name": "stdout",
     "text": [
      "(1, 1, 20, 20)\n",
      "variable([[ 0.00265973 -0.00265973]])\n",
      "(1, 1, 20, 20)\n",
      "variable([[-0.00725581  0.00725581]])\n",
      "(1, 1, 20, 20)\n",
      "variable([[-0.00499082  0.00499082]])\n",
      "(1, 1, 20, 20)\n",
      "variable([[-0.00403379  0.00403379]])\n",
      "(1, 1, 20, 20)\n",
      "variable([[-0.00157267  0.00157267]])\n",
      "(1, 1, 20, 20)\n",
      "variable([[ 0.0020417 -0.0020417]])\n",
      "(1, 1, 20, 20)\n",
      "variable([[-0.00259139  0.00259139]])\n",
      "(1, 1, 20, 20)\n",
      "variable([[-0.00807682  0.00807682]])\n",
      "(1, 1, 20, 20)\n",
      "variable([[-0.00296923  0.00296923]])\n",
      "(1, 1, 20, 20)\n",
      "variable([[-0.00166883  0.00166883]])\n",
      "(1, 1, 20, 20)\n",
      "variable([[ 0.00177852 -0.00177852]])\n",
      "(1, 1, 20, 20)\n",
      "variable([[-0.0014885  0.0014885]])\n",
      "(1, 1, 20, 20)\n",
      "variable([[-0.00196501  0.00196501]])\n",
      "(1, 1, 20, 20)\n",
      "variable([[-0.00442696  0.00442696]])\n",
      "(1, 1, 20, 20)\n",
      "variable([[-0.01253208  0.01253208]])\n",
      "(1, 1, 20, 20)\n",
      "variable([[-0.00675865  0.00675865]])\n",
      "(1, 1, 20, 20)\n",
      "variable([[-0.00452384  0.00452384]])\n",
      "(1, 1, 20, 20)\n",
      "variable([[-0.00193043  0.00193043]])\n",
      "(1, 1, 20, 20)\n",
      "variable([[-0.00982347  0.00982347]])\n",
      "(1, 1, 20, 20)\n",
      "variable([[ 0.00107307 -0.00107307]])\n",
      "(1, 1, 20, 20)\n",
      "variable([[-0.0077005  0.0077005]])\n",
      "(1, 1, 20, 20)\n",
      "variable([[-0.00241431  0.00241431]])\n",
      "(1, 1, 20, 20)\n",
      "variable([[-0.00339818  0.00339818]])\n",
      "(1, 1, 20, 20)\n",
      "variable([[-0.00666044  0.00666044]])\n",
      "(1, 1, 20, 20)\n",
      "variable([[ 0.00088689 -0.00088689]])\n",
      "(1, 1, 20, 20)\n",
      "variable([[-0.00642874  0.00642874]])\n",
      "(1, 1, 20, 20)\n",
      "variable([[-0.00033743  0.00033743]])\n",
      "(1, 1, 20, 20)\n",
      "variable([[-0.00318541  0.00318541]])\n",
      "(1, 1, 20, 20)\n",
      "variable([[ 0.00322681 -0.00322681]])\n",
      "(1, 1, 20, 20)\n",
      "variable([[-0.00288541  0.00288541]])\n",
      "(1, 1, 20, 20)\n",
      "variable([[-0.00234562  0.00234562]])\n",
      "(1, 1, 20, 20)\n",
      "variable([[-0.01017354  0.01017354]])\n",
      "(1, 1, 20, 20)\n",
      "variable([[-0.00424536  0.00424536]])\n",
      "(1, 1, 20, 20)\n",
      "variable([[-0.00481384  0.00481384]])\n",
      "(1, 1, 20, 20)\n",
      "variable([[-0.00547564  0.00547564]])\n",
      "(1, 1, 20, 20)\n",
      "variable([[ 0.00128634 -0.00128634]])\n",
      "(1, 1, 20, 20)\n",
      "variable([[-0.00300539  0.00300539]])\n",
      "(1, 1, 20, 20)\n",
      "variable([[-0.00403356  0.00403356]])\n",
      "(1, 1, 20, 20)\n",
      "variable([[-0.00473414  0.00473414]])\n",
      "(1, 1, 20, 20)\n",
      "variable([[-0.00266406  0.00266406]])\n",
      "(1, 1, 20, 20)\n",
      "variable([[-0.00106989  0.00106989]])\n",
      "(1, 1, 20, 20)\n",
      "variable([[-0.01094917  0.01094917]])\n",
      "(1, 1, 20, 20)\n",
      "variable([[-0.00610121  0.00610121]])\n",
      "(1, 1, 20, 20)\n",
      "variable([[-0.0020306  0.0020306]])\n",
      "(1, 1, 20, 20)\n",
      "variable([[ 0.00102567 -0.00102567]])\n",
      "(1, 1, 20, 20)\n",
      "variable([[ 0.00299908 -0.00299908]])\n",
      "(1, 1, 20, 20)\n",
      "variable([[-0.00205509  0.00205509]])\n",
      "(1, 1, 20, 20)\n",
      "variable([[-0.0003604  0.0003604]])\n",
      "epoc0\ttrain_accuracy:0.5\t\ttest_accuracy:0.5417\n"
     ]
    }
   ],
   "source": [
    "#学習\n",
    "model = CNN()\n",
    "optimizer = chainer.optimizers.Adam()\n",
    "optimizer.setup(model)\n",
    "n_epoch = 1\n",
    "batch_size = 192\n",
    "for epoch in range(n_epoch):\n",
    "    sum_loss = 0\n",
    "    sum_accuracy = 0\n",
    "    perm = np.random.permutation(len(X_train))\n",
    "    for i in range(0, len(X_train), batch_size):\n",
    "        x = Variable(X_train[perm[i:i+batch_size]])\n",
    "        t = Variable(Y_train[perm[i:i+batch_size]])\n",
    "        y = model.forward(x)\n",
    "        model.zerograds()\n",
    "        loss = F.softmax_cross_entropy(y, t)\n",
    "        acc = F.accuracy(y, t)\n",
    "        loss.backward()\n",
    "        optimizer.update()\n",
    "        sum_loss += loss.data*batch_size\n",
    "        sum_accuracy += acc.data*batch_size\n",
    "    #print(\"epoch: {}, mean loss: {}, mean accuracy: {}\".format(epoch, sum_loss/len(X_train), sum_accuracy/len(X_train)))\n",
    "    cnt = 0\n",
    "    for i in range(len(X_test)):\n",
    "        x = Variable(np.array([X_test[i]], dtype=np.float32))\n",
    "        t = Y_test[i]\n",
    "        y = model.forward(x)\n",
    "        print(np.shape([X_test[i]]))\n",
    "        print(y)\n",
    "        y = np.argmax(y.data[0])\n",
    "        if t == y:\n",
    "            cnt += 1\n",
    "    print(\"epoc\"+str(epoch)+\"\\ttrain_accuracy:\"+str(round(float(acc.data),4))+\"\\t\\ttest_accuracy:\"+str(round(cnt/len(X_test),4)))\n",
    "#testに対する学習\n",
    "\n"
   ]
  },
  {
   "cell_type": "code",
   "execution_count": 39,
   "metadata": {},
   "outputs": [],
   "source": [
    "#chainer.serializers.save_npz('cnn.net', model)"
   ]
  },
  {
   "cell_type": "code",
   "execution_count": 104,
   "metadata": {},
   "outputs": [
    {
     "output_type": "error",
     "ename": "ImportError",
     "evalue": "attempted relative import with no known parent package",
     "traceback": [
      "\u001b[0;31m---------------------------------------------------------------------------\u001b[0m",
      "\u001b[0;31mImportError\u001b[0m                               Traceback (most recent call last)",
      "\u001b[0;32m<ipython-input-104-935f6a14290f>\u001b[0m in \u001b[0;36m<module>\u001b[0;34m\u001b[0m\n\u001b[0;32m----> 1\u001b[0;31m \u001b[0;32mfrom\u001b[0m  \u001b[0;34m.\u001b[0m\u001b[0mmodels\u001b[0m\u001b[0;34m.\u001b[0m\u001b[0mnn\u001b[0m \u001b[0;32mimport\u001b[0m \u001b[0mRecognizer\u001b[0m\u001b[0;34m\u001b[0m\u001b[0;34m\u001b[0m\u001b[0m\n\u001b[0m",
      "\u001b[0;31mImportError\u001b[0m: attempted relative import with no known parent package"
     ]
    }
   ],
   "source": [
    "from  .models.nn import Recognizer"
   ]
  },
  {
   "cell_type": "code",
   "execution_count": 75,
   "metadata": {},
   "outputs": [],
   "source": [
    "df = DB.get_df()"
   ]
  },
  {
   "cell_type": "code",
   "execution_count": 106,
   "metadata": {},
   "outputs": [
    {
     "output_type": "display_data",
     "data": {
      "text/plain": "<Figure size 432x288 with 1 Axes>",
      "image/svg+xml": "<?xml version=\"1.0\" encoding=\"utf-8\" standalone=\"no\"?>\n<!DOCTYPE svg PUBLIC \"-//W3C//DTD SVG 1.1//EN\"\n  \"http://www.w3.org/Graphics/SVG/1.1/DTD/svg11.dtd\">\n<!-- Created with matplotlib (https://matplotlib.org/) -->\n<svg height=\"231.84pt\" version=\"1.1\" viewBox=\"0 0 231.84 231.84\" width=\"231.84pt\" xmlns=\"http://www.w3.org/2000/svg\" xmlns:xlink=\"http://www.w3.org/1999/xlink\">\n <metadata>\n  <rdf:RDF xmlns:cc=\"http://creativecommons.org/ns#\" xmlns:dc=\"http://purl.org/dc/elements/1.1/\" xmlns:rdf=\"http://www.w3.org/1999/02/22-rdf-syntax-ns#\">\n   <cc:Work>\n    <dc:type rdf:resource=\"http://purl.org/dc/dcmitype/StillImage\"/>\n    <dc:date>2021-01-18T23:51:59.298300</dc:date>\n    <dc:format>image/svg+xml</dc:format>\n    <dc:creator>\n     <cc:Agent>\n      <dc:title>Matplotlib v3.3.3, https://matplotlib.org/</dc:title>\n     </cc:Agent>\n    </dc:creator>\n   </cc:Work>\n  </rdf:RDF>\n </metadata>\n <defs>\n  <style type=\"text/css\">*{stroke-linecap:butt;stroke-linejoin:round;}</style>\n </defs>\n <g id=\"figure_1\">\n  <g id=\"patch_1\">\n   <path d=\"M 0 231.84 \nL 231.84 231.84 \nL 231.84 0 \nL 0 0 \nz\n\" style=\"fill:none;\"/>\n  </g>\n  <g id=\"axes_1\">\n   <g clip-path=\"url(#p173d3958dd)\">\n    <image height=\"218\" id=\"image0adfca441e\" transform=\"scale(1 -1)translate(0 -218)\" width=\"218\" x=\"7.2\" xlink:href=\"data:image/png;base64,\niVBORw0KGgoAAAANSUhEUgAAANoAAADaCAYAAADAHVzbAAAC7UlEQVR4nO3cO44CMRBAwQGBuP9RIYCA3yZ7gHbAQ6utiluD0eiNE8u7bdveG/BR+28vAP4DoUFAaBAQGgSEBgGhQUBoEBAaBIQGAaFBQGgQEBoEhAYBoUFAaBAQGgSEBgGhQUBoEBAaBIQGAaFBQGgQEBoEhAYBoUFAaBAQGgSEBgGhQUBoEBAaBIQGAaFBQGgQEBoEhAYBoUFAaBAQGgSEBgGhQUBoEBAaBIQGAaFBQGgQEBoEhAYBoUFAaBAQGgSEBgGhQUBoEBAaBIQGAaFBQGgQEBoEhAYBoUFAaBAQGgSEBgGhQUBoEBAaBIQGAaFBQGgQEBoEhAYBoUFAaBA4fHsB8Fe93+/xrB0NAkKDgNAgIDQICA0CQoOA0CAgNAgIDQJCg8Bu27b5ORL4db/fx7P7/ex7vvLM2+02nr1cLuPZ8/k8nn08HuNZOxoEhAYBoUFAaBAQGgSEBgGhQUBoEBAaBIQGgY8dwXo+n+PZ1+s1np3ePLRyPGZlrZ967orT6TSePR6P49mV97Dy36ZrWPn96/U6nl15Z4fD/GK4lfdgR4OA0CAgNAgIDQJCg4DQICA0CAgNAkKDgNAg4BYsCNjRICA0CAgNAkKDgNAgIDQICA0CQoOA0CAgNAgIDQJCg4DQICA0CAgNAkKDgNAgIDQICA0CQoOA0CAgNAgIDQJCg4DQICA0CAgNAkKDgNAgIDQICA0CQoOA0CAgNAgIDQJCg4DQICA0CAgNAkKDgNAgIDQICA0CQoOA0CAgNAgIDQJCg4DQICA0CAgNAkKDgNAgIDQICA0CQoOA0CAgNAgIDQJCg4DQICA0CAgNAkKDgNAgIDQICA0CQoOA0CAgNAgIDQJCg4DQICA0CAgNAkKDgNAgIDQICA0CQoOA0CAgNAgIDQJCg4DQICA0CAgNAkKDgNAgIDQICA0CQoOA0CAgNAgIDQJCg4DQICA0CAgNAkKDgNAgIDQICA0CQoOA0CAgNAgIDQJCg8APwt49714FPJsAAAAASUVORK5CYII=\" y=\"-6.64\"/>\n   </g>\n  </g>\n </g>\n <defs>\n  <clipPath id=\"p173d3958dd\">\n   <rect height=\"217.44\" width=\"217.44\" x=\"7.2\" y=\"7.2\"/>\n  </clipPath>\n </defs>\n</svg>\n",
      "image/png": "[encoded data removed]"
     },
     "metadata": {
      "needs_background": "light"
     }
    }
   ],
   "source": [
    "rec = cv2.imread(df.loc[df.index[1],\"img_rec_path\"],0)\n",
    "my_cv.display_gray(rec)"
   ]
  },
  {
   "cell_type": "code",
   "execution_count": 107,
   "metadata": {},
   "outputs": [],
   "source": [
    "class Recognizer():\n",
    "    @staticmethod\n",
    "    #rec\btangleを受け取ってlabelとconfidenceを返す\n",
    "    def predict(rec):\n",
    "        \n",
    "        rec = rec.reshape((1,1,20,20)).astype(np.float32)\n",
    "        rec /= 255\n",
    "        x = Variable(np.array(rec, dtype=np.float32))\n",
    "        model = CNN()\n",
    "        chainer.serializers.load_npz(\"cnn.net\",model)\n",
    "        y = model.forward(x)\n",
    "        label = np.argmax(y.data[0])\n",
    "        confidence = abs(y.data[0][0])*100\n",
    "\n",
    "        return label,confidence"
   ]
  },
  {
   "cell_type": "code",
   "execution_count": 108,
   "metadata": {},
   "outputs": [
    {
     "output_type": "execute_result",
     "data": {
      "text/plain": [
       "(0, array([1399.3947, 1399.4037], dtype=float32))"
      ]
     },
     "metadata": {},
     "execution_count": 108
    }
   ],
   "source": [
    "Recognizer.predict(rec)"
   ]
  },
  {
   "cell_type": "code",
   "execution_count": null,
   "metadata": {},
   "outputs": [],
   "source": []
  }
 ]
}