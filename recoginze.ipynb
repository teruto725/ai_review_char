{
 "metadata": {
  "language_info": {
   "codemirror_mode": {
    "name": "ipython",
    "version": 3
   },
   "file_extension": ".py",
   "mimetype": "text/x-python",
   "name": "python",
   "nbconvert_exporter": "python",
   "pygments_lexer": "ipython3",
   "version": "3.8.5-final"
  },
  "orig_nbformat": 2,
  "kernelspec": {
   "name": "python3",
   "display_name": "Python 3",
   "language": "python"
  }
 },
 "nbformat": 4,
 "nbformat_minor": 2,
 "cells": [
  {
   "cell_type": "code",
   "execution_count": 2,
   "metadata": {},
   "outputs": [],
   "source": [
    "import numpy as np\n",
    "import pandas as pd\n",
    "import matplotlib.pyplot as plt\n",
    "import cv2\n",
    "import math\n",
    "from models import my_cv\n",
    "from models.models import *\n",
    "from models.database import *"
   ]
  },
  {
   "cell_type": "code",
   "execution_count": 1,
   "metadata": {},
   "outputs": [
    {
     "output_type": "execute_result",
     "data": {
      "text/plain": [
       "'\\nfor i in range(1,25):\\n    img_ori = cv2.imread(\\'./sample_images/train/\\'+str(i)+\\'.png\\')#画像読み込み\\n    print(np.shape(img_ori))\\n    my_cv.display_color(img_ori)\\n    #紙の部分を切り出す\\n    img_paper = my_cv.cutting_paper(img_ori)\\n    my_cv.display_color(img_paper,output_file_path = \"./tmp/paper.png\")\\n    paper = Paper(img_paper,\"Sho\",\"Mizu\")\\n    score1s , score2s = paper.get_scores(True)\\n    print(len(score1s))\\n    print(len(score2s))\\n'"
      ]
     },
     "metadata": {},
     "execution_count": 1
    }
   ],
   "source": [
    "#データセットの作成 21\n",
    "\"\"\"\n",
    "for i in range(1,25):\n",
    "    img_ori = cv2.imread('./sample_images/train/'+str(i)+'.png')#画像読み込み\n",
    "    print(np.shape(img_ori))\n",
    "    my_cv.display_color(img_ori)\n",
    "    #紙の部分を切り出す\n",
    "    img_paper = my_cv.cutting_paper(img_ori)\n",
    "    my_cv.display_color(img_paper,output_file_path = \"./tmp/paper.png\")\n",
    "    paper = Paper(img_paper,\"Sho\",\"Mizu\")\n",
    "    score1s , score2s = paper.get_scores(True)\n",
    "    print(len(score1s))\n",
    "    print(len(score2s))\n",
    "\"\"\""
   ]
  },
  {
   "cell_type": "code",
   "execution_count": 2,
   "metadata": {},
   "outputs": [
    {
     "output_type": "execute_result",
     "data": {
      "text/plain": [
       "'\\ndf = DB.get_df()\\nfor i, row in df.iloc[374:456].iterrows():\\n    img = cv2.imread(row[\"img_char_path\"])\\n    my_cv.display_color(img)\\n    img = cv2.imread(row[\"img_rec_path\"],-1)\\n    my_cv.display_color(img)\\n    label  = input()\\n    df.loc[i,\"label\"] = int(label)\\n    DB.save(df)\\n'"
      ]
     },
     "metadata": {},
     "execution_count": 2
    }
   ],
   "source": [
    "#labeling\n",
    "\"\"\"\n",
    "df = DB.get_df()\n",
    "for i, row in df.iloc[374:456].iterrows():\n",
    "    img = cv2.imread(row[\"img_char_path\"])\n",
    "    my_cv.display_color(img)\n",
    "    img = cv2.imread(row[\"img_rec_path\"],-1)\n",
    "    my_cv.display_color(img)\n",
    "    label  = input()\n",
    "    df.loc[i,\"label\"] = int(label)\n",
    "    DB.save(df)\n",
    "\"\"\""
   ]
  },
  {
   "cell_type": "code",
   "execution_count": 3,
   "metadata": {},
   "outputs": [],
   "source": [
    "#ラベルの抽出\n",
    "df = DB.get_df()\n",
    "df[\"label\"] = df[\"label\"].apply(lambda x: 1 if x > 50 else 0)\n",
    "Y = df[\"label\"].values.astype(np.int32)# ラベル 0\n"
   ]
  },
  {
   "cell_type": "code",
   "execution_count": 4,
   "metadata": {},
   "outputs": [],
   "source": [
    "X_arr = None #説明変数\n",
    "\n",
    "X_arr = np.stack([cv2.imread(path,0) for path in df[\"img_rec_path\"] ])\n"
   ]
  },
  {
   "cell_type": "code",
   "execution_count": 5,
   "metadata": {},
   "outputs": [],
   "source": [
    "#data orgmentatiln\n",
    "stack = list()\n",
    "X_r1 = np.stack(list(map(np.rot90,X_arr)))\n",
    "stack.append(X_r1)\n",
    "X_r2 = np.stack(list(map(np.rot90,X_r1)))\n",
    "stack.append(X_r2)\n",
    "X_r3 = np.stack(list(map(np.rot90,X_r2)))\n",
    "stack.append(X_r3)\n",
    "X_hori = X_arr[:,::-1,:]#上下反転\n",
    "stack.append(X_hori)\n",
    "X_hori_r1 = np.stack(list(map(np.rot90,X_hori)))\n",
    "stack.append(X_hori_r1)\n",
    "X_hori_r2 = np.stack(list(map(np.rot90,X_hori_r1)))\n",
    "stack.append(X_hori_r2)\n",
    "X_hori_r3 = np.stack(list(map(np.rot90,X_hori_r2)))\n",
    "stack.append(X_hori_r3)\n",
    "X_arr = np.vstack(stack)"
   ]
  },
  {
   "cell_type": "code",
   "execution_count": 6,
   "metadata": {},
   "outputs": [],
   "source": [
    "#yもその分増やす\n",
    "Y = np.hstack([Y]*len(stack))"
   ]
  },
  {
   "cell_type": "code",
   "execution_count": 7,
   "metadata": {},
   "outputs": [
    {
     "output_type": "stream",
     "name": "stdout",
     "text": [
      "(3199, 20, 20)\n(3199,)\n"
     ]
    }
   ],
   "source": [
    "print(X_arr.shape)\n",
    "print(Y.shape)"
   ]
  },
  {
   "cell_type": "code",
   "execution_count": 8,
   "metadata": {},
   "outputs": [],
   "source": [
    "X_arr = X_arr.reshape((len(X_arr), 1, 20, 20)).astype(np.float32)"
   ]
  },
  {
   "cell_type": "code",
   "execution_count": 9,
   "metadata": {},
   "outputs": [
    {
     "output_type": "stream",
     "name": "stdout",
     "text": [
      "(2559, 1, 20, 20)\n"
     ]
    }
   ],
   "source": [
    "#分割\n",
    "from sklearn.model_selection import train_test_split\n",
    "X_train, X_test, Y_train, Y_test = train_test_split(X_arr, Y, test_size=0.2, random_state=0) #分割\n",
    "#型変換\n",
    "X_train = X_train.astype(np.float32)\n",
    "X_train /= 255\n",
    "X_test = X_test.astype(np.float32)\n",
    "X_test /= 255\n",
    "print(X_train.shape)"
   ]
  },
  {
   "cell_type": "code",
   "execution_count": 10,
   "metadata": {},
   "outputs": [],
   "source": [
    "#CNN\n",
    "from chainer import Sequential\n",
    "import chainer.functions as F\n",
    "import chainer.links as L\n",
    "import chainer\n",
    "from chainer import Chain, optimizers, Variable, serializers, cuda\n",
    "\n",
    "class CNN(Chain):#出力数を受け取ってcnnを作成する\n",
    "    def __init__(self):\n",
    "        output_num = 2\n",
    "        super(CNN, self).__init__(\n",
    "            conv1 = L.Convolution2D(1, 32, 5), # filter 5\n",
    "            conv2 = L.Convolution2D(32, 64, 5), # filter 5\n",
    "            l1 = L.Linear(256, 500),\n",
    "            l2 = L.Linear(500,400),\n",
    "            l3 = L.Linear(400, output_num, initialW=np.zeros((output_num, 400), dtype=np.float32))\n",
    "        )\n",
    "    def forward(self, x):\n",
    "        h = F.max_pooling_2d(F.relu(self.conv1(x)), 2)\n",
    "        h = F.max_pooling_2d(F.relu(self.conv2(h)), 2)\n",
    "        h = F.relu(self.l1(h))\n",
    "        h = F.relu(self.l2(h))\n",
    "        h = F.sigmoid(self.l3(h))\n",
    "        return h\n"
   ]
  },
  {
   "cell_type": "code",
   "execution_count": 11,
   "metadata": {
    "tags": []
   },
   "outputs": [
    {
     "output_type": "stream",
     "name": "stdout",
     "text": [
      "epoc0\ttrain_accuracy:0.4713\t\ttest_accuracy:0.5156\n",
      "epoc1\ttrain_accuracy:0.4994\t\ttest_accuracy:0.5188\n",
      "epoc2\ttrain_accuracy:0.619\t\ttest_accuracy:0.6625\n",
      "epoc3\ttrain_accuracy:0.7913\t\ttest_accuracy:0.8172\n",
      "epoc4\ttrain_accuracy:0.8042\t\ttest_accuracy:0.825\n",
      "epoc5\ttrain_accuracy:0.8183\t\ttest_accuracy:0.8344\n",
      "epoc6\ttrain_accuracy:0.8453\t\ttest_accuracy:0.8234\n",
      "epoc7\ttrain_accuracy:0.83\t\ttest_accuracy:0.8516\n",
      "epoc8\ttrain_accuracy:0.8499\t\ttest_accuracy:0.875\n",
      "epoc9\ttrain_accuracy:0.8499\t\ttest_accuracy:0.8828\n",
      "epoc10\ttrain_accuracy:0.8581\t\ttest_accuracy:0.8875\n",
      "epoc11\ttrain_accuracy:0.8546\t\ttest_accuracy:0.8906\n",
      "epoc12\ttrain_accuracy:0.8781\t\ttest_accuracy:0.8859\n",
      "epoc13\ttrain_accuracy:0.8581\t\ttest_accuracy:0.8859\n",
      "epoc14\ttrain_accuracy:0.8664\t\ttest_accuracy:0.8953\n",
      "epoc15\ttrain_accuracy:0.8816\t\ttest_accuracy:0.8875\n",
      "epoc16\ttrain_accuracy:0.8722\t\ttest_accuracy:0.8875\n",
      "epoc17\ttrain_accuracy:0.8335\t\ttest_accuracy:0.8859\n",
      "epoc18\ttrain_accuracy:0.8828\t\ttest_accuracy:0.8781\n",
      "epoc19\ttrain_accuracy:0.8781\t\ttest_accuracy:0.8688\n",
      "epoc20\ttrain_accuracy:0.8957\t\ttest_accuracy:0.8797\n",
      "epoc21\ttrain_accuracy:0.8898\t\ttest_accuracy:0.8859\n",
      "epoc22\ttrain_accuracy:0.9015\t\ttest_accuracy:0.8984\n",
      "epoc23\ttrain_accuracy:0.8875\t\ttest_accuracy:0.8969\n",
      "epoc24\ttrain_accuracy:0.8968\t\ttest_accuracy:0.8906\n",
      "epoc25\ttrain_accuracy:0.8816\t\ttest_accuracy:0.8922\n",
      "epoc26\ttrain_accuracy:0.9062\t\ttest_accuracy:0.8891\n",
      "epoc27\ttrain_accuracy:0.8863\t\ttest_accuracy:0.8938\n",
      "epoc28\ttrain_accuracy:0.9121\t\ttest_accuracy:0.8922\n",
      "epoc29\ttrain_accuracy:0.9086\t\ttest_accuracy:0.8891\n",
      "epoc30\ttrain_accuracy:0.9168\t\ttest_accuracy:0.8938\n",
      "epoc31\ttrain_accuracy:0.9273\t\ttest_accuracy:0.8906\n",
      "epoc32\ttrain_accuracy:0.9238\t\ttest_accuracy:0.8844\n",
      "epoc33\ttrain_accuracy:0.9238\t\ttest_accuracy:0.8844\n",
      "epoc34\ttrain_accuracy:0.9027\t\ttest_accuracy:0.8875\n",
      "epoc35\ttrain_accuracy:0.9168\t\ttest_accuracy:0.8969\n",
      "epoc36\ttrain_accuracy:0.9097\t\ttest_accuracy:0.8953\n",
      "epoc37\ttrain_accuracy:0.9226\t\ttest_accuracy:0.8922\n",
      "epoc38\ttrain_accuracy:0.9343\t\ttest_accuracy:0.8922\n",
      "epoc39\ttrain_accuracy:0.9238\t\ttest_accuracy:0.9016\n",
      "epoc40\ttrain_accuracy:0.9449\t\ttest_accuracy:0.8984\n",
      "epoc41\ttrain_accuracy:0.9355\t\ttest_accuracy:0.8938\n",
      "epoc42\ttrain_accuracy:0.9496\t\ttest_accuracy:0.8859\n",
      "epoc43\ttrain_accuracy:0.9285\t\ttest_accuracy:0.9031\n",
      "epoc44\ttrain_accuracy:0.932\t\ttest_accuracy:0.8969\n",
      "epoc45\ttrain_accuracy:0.9343\t\ttest_accuracy:0.8938\n",
      "epoc46\ttrain_accuracy:0.9437\t\ttest_accuracy:0.8938\n",
      "epoc47\ttrain_accuracy:0.9472\t\ttest_accuracy:0.8984\n",
      "epoc48\ttrain_accuracy:0.9402\t\ttest_accuracy:0.9016\n",
      "epoc49\ttrain_accuracy:0.9555\t\ttest_accuracy:0.9\n",
      "epoc50\ttrain_accuracy:0.9566\t\ttest_accuracy:0.8953\n",
      "epoc51\ttrain_accuracy:0.9496\t\ttest_accuracy:0.8984\n",
      "epoc52\ttrain_accuracy:0.9519\t\ttest_accuracy:0.9062\n",
      "epoc53\ttrain_accuracy:0.9578\t\ttest_accuracy:0.9062\n",
      "epoc54\ttrain_accuracy:0.9613\t\ttest_accuracy:0.9031\n",
      "epoc55\ttrain_accuracy:0.9566\t\ttest_accuracy:0.9031\n",
      "epoc56\ttrain_accuracy:0.9496\t\ttest_accuracy:0.9047\n",
      "epoc57\ttrain_accuracy:0.9472\t\ttest_accuracy:0.9031\n",
      "epoc58\ttrain_accuracy:0.9472\t\ttest_accuracy:0.9047\n",
      "epoc59\ttrain_accuracy:0.9613\t\ttest_accuracy:0.9031\n",
      "epoc60\ttrain_accuracy:0.9461\t\ttest_accuracy:0.9062\n",
      "epoc61\ttrain_accuracy:0.9519\t\ttest_accuracy:0.9047\n",
      "epoc62\ttrain_accuracy:0.9543\t\ttest_accuracy:0.9047\n",
      "epoc63\ttrain_accuracy:0.9519\t\ttest_accuracy:0.9062\n",
      "epoc64\ttrain_accuracy:0.959\t\ttest_accuracy:0.9047\n",
      "epoc65\ttrain_accuracy:0.9508\t\ttest_accuracy:0.9047\n",
      "epoc66\ttrain_accuracy:0.9625\t\ttest_accuracy:0.9047\n",
      "epoc67\ttrain_accuracy:0.9578\t\ttest_accuracy:0.9031\n",
      "epoc68\ttrain_accuracy:0.959\t\ttest_accuracy:0.9047\n",
      "epoc69\ttrain_accuracy:0.9601\t\ttest_accuracy:0.9047\n",
      "epoc70\ttrain_accuracy:0.9566\t\ttest_accuracy:0.9047\n",
      "epoc71\ttrain_accuracy:0.9578\t\ttest_accuracy:0.9062\n",
      "epoc72\ttrain_accuracy:0.9637\t\ttest_accuracy:0.9062\n",
      "epoc73\ttrain_accuracy:0.9613\t\ttest_accuracy:0.9047\n",
      "epoc74\ttrain_accuracy:0.9613\t\ttest_accuracy:0.9062\n",
      "epoc75\ttrain_accuracy:0.9566\t\ttest_accuracy:0.9047\n",
      "epoc76\ttrain_accuracy:0.959\t\ttest_accuracy:0.9047\n",
      "epoc77\ttrain_accuracy:0.9484\t\ttest_accuracy:0.9047\n",
      "epoc78\ttrain_accuracy:0.9519\t\ttest_accuracy:0.9047\n",
      "epoc79\ttrain_accuracy:0.959\t\ttest_accuracy:0.9062\n",
      "epoc80\ttrain_accuracy:0.9578\t\ttest_accuracy:0.9047\n",
      "epoc81\ttrain_accuracy:0.9496\t\ttest_accuracy:0.9062\n",
      "epoc82\ttrain_accuracy:0.9519\t\ttest_accuracy:0.9031\n",
      "epoc83\ttrain_accuracy:0.9601\t\ttest_accuracy:0.9031\n",
      "epoc84\ttrain_accuracy:0.9625\t\ttest_accuracy:0.9047\n",
      "epoc85\ttrain_accuracy:0.9519\t\ttest_accuracy:0.9031\n",
      "epoc86\ttrain_accuracy:0.9683\t\ttest_accuracy:0.9031\n",
      "epoc87\ttrain_accuracy:0.9555\t\ttest_accuracy:0.9016\n",
      "epoc88\ttrain_accuracy:0.9519\t\ttest_accuracy:0.9031\n",
      "epoc89\ttrain_accuracy:0.9601\t\ttest_accuracy:0.9047\n",
      "epoc90\ttrain_accuracy:0.9543\t\ttest_accuracy:0.9016\n",
      "epoc91\ttrain_accuracy:0.9695\t\ttest_accuracy:0.9016\n",
      "epoc92\ttrain_accuracy:0.9601\t\ttest_accuracy:0.9016\n",
      "epoc93\ttrain_accuracy:0.9531\t\ttest_accuracy:0.9047\n",
      "epoc94\ttrain_accuracy:0.959\t\ttest_accuracy:0.9016\n",
      "epoc95\ttrain_accuracy:0.9508\t\ttest_accuracy:0.9031\n",
      "epoc96\ttrain_accuracy:0.9555\t\ttest_accuracy:0.9016\n",
      "epoc97\ttrain_accuracy:0.9472\t\ttest_accuracy:0.9047\n",
      "epoc98\ttrain_accuracy:0.9566\t\ttest_accuracy:0.9047\n",
      "epoc99\ttrain_accuracy:0.9578\t\ttest_accuracy:0.9047\n"
     ]
    }
   ],
   "source": [
    "#学習\n",
    "model = CNN()\n",
    "optimizer = chainer.optimizers.Adam()\n",
    "optimizer.setup(model)\n",
    "n_epoch = 100\n",
    "batch_size = 853\n",
    "result = list()\n",
    "for epoch in range(n_epoch):\n",
    "    sum_loss = 0\n",
    "    sum_accuracy = 0\n",
    "    perm = np.random.permutation(len(X_train))\n",
    "    for i in range(0, len(X_train), batch_size):\n",
    "        x = Variable(X_train[perm[i:i+batch_size]])\n",
    "        t = Variable(Y_train[perm[i:i+batch_size]])\n",
    "        y = model.forward(x)\n",
    "        model.zerograds()\n",
    "        loss = F.softmax_cross_entropy(y, t)\n",
    "        acc = F.accuracy(y, t)\n",
    "        loss.backward()\n",
    "        optimizer.update()\n",
    "        sum_loss += loss.data*batch_size\n",
    "        sum_accuracy += acc.data*batch_size\n",
    "    #print(\"epoch: {}, mean loss: {}, mean accuracy: {}\".format(epoch, sum_loss/len(X_train), sum_accuracy/len(X_train)))\n",
    "    cnt = 0\n",
    "    for i in range(len(X_test)):\n",
    "        x = Variable(np.array([X_test[i]], dtype=np.float32))\n",
    "        t = Y_test[i]\n",
    "        y = model.forward(x)\n",
    "        y = np.argmax(y.data[0])\n",
    "        if t == y:\n",
    "            cnt += 1\n",
    "    print(\"epoc\"+str(epoch)+\"\\ttrain_accuracy:\"+str(round(float(acc.data),4))+\"\\t\\ttest_accuracy:\"+str(round(cnt/len(X_test),4)))\n",
    "    result.append((round(float(acc.data),4),round(cnt/len(X_test),4)))\n",
    "#testに対する学習\n",
    "\n"
   ]
  },
  {
   "cell_type": "code",
   "execution_count": 25,
   "metadata": {},
   "outputs": [],
   "source": [
    "#saveする\n",
    "#chainer.serializers.save_npz('cnn.net', model)"
   ]
  },
  {
   "cell_type": "code",
   "execution_count": 14,
   "metadata": {},
   "outputs": [
    {
     "output_type": "display_data",
     "data": {
      "text/plain": "<Figure size 432x288 with 1 Axes>",
      "image/svg+xml": "<?xml version=\"1.0\" encoding=\"utf-8\" standalone=\"no\"?>\n<!DOCTYPE svg PUBLIC \"-//W3C//DTD SVG 1.1//EN\"\n  \"http://www.w3.org/Graphics/SVG/1.1/DTD/svg11.dtd\">\n<!-- Created with matplotlib (https://matplotlib.org/) -->\n<svg height=\"231.84pt\" version=\"1.1\" viewBox=\"0 0 231.84 231.84\" width=\"231.84pt\" xmlns=\"http://www.w3.org/2000/svg\" xmlns:xlink=\"http://www.w3.org/1999/xlink\">\n <metadata>\n  <rdf:RDF xmlns:cc=\"http://creativecommons.org/ns#\" xmlns:dc=\"http://purl.org/dc/elements/1.1/\" xmlns:rdf=\"http://www.w3.org/1999/02/22-rdf-syntax-ns#\">\n   <cc:Work>\n    <dc:type rdf:resource=\"http://purl.org/dc/dcmitype/StillImage\"/>\n    <dc:date>2021-01-23T16:07:34.938626</dc:date>\n    <dc:format>image/svg+xml</dc:format>\n    <dc:creator>\n     <cc:Agent>\n      <dc:title>Matplotlib v3.3.3, https://matplotlib.org/</dc:title>\n     </cc:Agent>\n    </dc:creator>\n   </cc:Work>\n  </rdf:RDF>\n </metadata>\n <defs>\n  <style type=\"text/css\">*{stroke-linecap:butt;stroke-linejoin:round;}</style>\n </defs>\n <g id=\"figure_1\">\n  <g id=\"patch_1\">\n   <path d=\"M 0 231.84 \nL 231.84 231.84 \nL 231.84 0 \nL 0 0 \nz\n\" style=\"fill:none;\"/>\n  </g>\n  <g id=\"axes_1\">\n   <g clip-path=\"url(#pfd52a18676)\">\n    <image height=\"218\" id=\"image53f9f3bbc1\" transform=\"scale(1 -1)translate(0 -218)\" width=\"218\" x=\"7.2\" xlink:href=\"data:image/png;base64,\niVBORw0KGgoAAAANSUhEUgAAANoAAADaCAYAAADAHVzbAAAEwElEQVR4nO3dy04iURSG0UJEvJDY0RgHvv+DeRlgYoyoiIhCz3q8T6frV+i1xjuVo8nHmexUDbqu23RAr/a++wDwPxAaBAgNAoQGAUKDAKFBgNAgQGgQIDQIEBoECA0ChAYBQoMAoUGA0CBAaBAgNAgQGgQIDQKEBgFCgwChQYDQIEBoECA0CBAaBAgNAoQGAUKDAKFBgNAgQGgQsP/dB2g1n8//+TPH43F5dn9/6/5l/ABuNAgQGgQIDQKEBgFCgwChQYDQIEBoECA0CBAaBGzdPlF1BWu9XpefORwOy7PL5bKX51rt2m1uNAgQGgQIDQKEBgFCgwChQYDQIEBoECA0CBAaBGzd3k/1jVWvr6/lZ7asa319fZVnF4tFefbt7a082/LWrpY1MPrjRoMAoUGA0CBAaBAgNAgQGgQIDQKEBgFCg4BB13Wb7z5EH6bTaXn2+Pi4lzPMZrPybMvGyd5e/fdxMpmUZ8/OzsqztHGjQYDQIEBoECA0CBAaBAgNAoQGAUKDAKFBgNAgYGdXsDab+p/18vLSyxlaVrD6OkPLi3x+/fpVnj0/P/+L0/y/3GgQIDQIEBoECA0ChAYBQoMAoUGA0CBAaBAgNAjYuu+jVQ0Gg16e+/7+Xp5tebvWcrksz35+fvYy+/T0VJ6dz+fl2ZOTk/LsrnKjQYDQIEBoECA0CBAaBAgNAoQGAUKDAKFBgNAgYGdXsPpyeHhYnm1ZaWr5uGDLelnLeVs+hvj4+PjPnzscDsvP3DZuNAgQGgQIDQKEBgFCgwChQYDQIEBoECA0CBAaBFjB6tHR0VF5tmX9aLValWdHo1F5tuW8LWdoWUXbVW40CBAaBAgNAoQGAUKDAKFBgNAgQGgQIDQIEBoEWMHq0Xg8Ls/OZrPy7MPDQ3m25c1WLR9ObFH9yOLb21v5mX2dtS9uNAgQGgQIDQKEBgFCgwChQYDQIEBoECA0CBAaBAy6rtt89yFoc39/X55dLBbl2ZaPIR4cHJRnqytY+/v1jcCLi4vybMtZ++JGgwChQYDQIEBoECA0CBAaBAgNAoQGAUKDAKFBgLdgbaHLy8vy7O3tbXn2+fm5PNvy0cLqatd8Pi8/c9u40SBAaBAgNAgQGgQIDQKEBgFCgwChQYDQIEBoEGAFa8ddXV2VZ1erVXm25e1aw+GwNPfx8VF+5mZTf3nb4+Njefbs7Kw828KNBgFCgwChQYDQIEBoECA0CBAaBAgNAoQGAUKDAB8i5I/Pz8/y7M3NTXm2+narlhWwlo8WDgaD8uzp6Wl5djKZlGfdaBAgNAgQGgQIDQKEBgFCgwChQYDQIEBoEODlPPzRsm3x9fVVnr27uyvNzWaz8jNbtj1atGzHtLygyI0GAUKDAKFBgNAgQGgQIDQIEBoECA0ChAYBQoMAK1j8leo3z7qu/n2y5XJZfubeXv2OaJkdjUbl2ZY1MDcaBAgNAoQGAUKDAKFBgNAgQGgQIDQIEBoECA0CfB+NH+P6+ro82/IWrr6+pdayruVGgwChQYDQIEBoECA0CBAaBAgNAoQGAUKDAKFBgBUsfoyWt2BNp9PybMtaVcvser0uz7rRIEBoECA0CBAaBAgNAoQGAUKDAKFBgNAgQGgQ8Btz7LzGcXBXPwAAAABJRU5ErkJggg==\" y=\"-6.64\"/>\n   </g>\n  </g>\n </g>\n <defs>\n  <clipPath id=\"pfd52a18676\">\n   <rect height=\"217.44\" width=\"217.44\" x=\"7.2\" y=\"7.2\"/>\n  </clipPath>\n </defs>\n</svg>\n",
      "image/png": "[encoded data removed]"
     },
     "metadata": {
      "needs_background": "light"
     }
    }
   ],
   "source": [
    "rec = cv2.imread(df.loc[df.index[10],\"img_rec_path\"],0)\n",
    "my_cv.display_gray(rec)"
   ]
  },
  {
   "cell_type": "code",
   "execution_count": 15,
   "metadata": {},
   "outputs": [],
   "source": [
    "class Recognizer():\n",
    "    @staticmethod\n",
    "    #rec\btangleを受け取ってlabelとconfidenceを返す\n",
    "    def predict(rec):\n",
    "        \n",
    "        rec = rec.reshape((1,1,20,20)).astype(np.float32)\n",
    "        rec /= 255\n",
    "        x = Variable(np.array(rec, dtype=np.float32))\n",
    "        model = CNN()\n",
    "        chainer.serializers.load_npz(\"cnn.net\",model)\n",
    "        y = model.forward(x)\n",
    "        label = np.argmax(y.data[0])\n",
    "        confidence = abs(y.data[0][label])*100\n",
    "        return label,confidence"
   ]
  },
  {
   "cell_type": "code",
   "execution_count": 16,
   "metadata": {},
   "outputs": [
    {
     "output_type": "stream",
     "name": "stdout",
     "text": [
      "variable([[0. 1.]])\n"
     ]
    },
    {
     "output_type": "execute_result",
     "data": {
      "text/plain": [
       "(1, 0.0)"
      ]
     },
     "metadata": {},
     "execution_count": 16
    }
   ],
   "source": [
    "Recognizer.predict(rec)"
   ]
  },
  {
   "cell_type": "code",
   "execution_count": 24,
   "metadata": {},
   "outputs": [
    {
     "output_type": "display_data",
     "data": {
      "text/plain": "<Figure size 432x288 with 1 Axes>",
      "image/svg+xml": "<?xml version=\"1.0\" encoding=\"utf-8\" standalone=\"no\"?>\n<!DOCTYPE svg PUBLIC \"-//W3C//DTD SVG 1.1//EN\"\n  \"http://www.w3.org/Graphics/SVG/1.1/DTD/svg11.dtd\">\n<!-- Created with matplotlib (https://matplotlib.org/) -->\n<svg height=\"231.84pt\" version=\"1.1\" viewBox=\"0 0 231.84 231.84\" width=\"231.84pt\" xmlns=\"http://www.w3.org/2000/svg\" xmlns:xlink=\"http://www.w3.org/1999/xlink\">\n <metadata>\n  <rdf:RDF xmlns:cc=\"http://creativecommons.org/ns#\" xmlns:dc=\"http://purl.org/dc/elements/1.1/\" xmlns:rdf=\"http://www.w3.org/1999/02/22-rdf-syntax-ns#\">\n   <cc:Work>\n    <dc:type rdf:resource=\"http://purl.org/dc/dcmitype/StillImage\"/>\n    <dc:date>2021-01-23T16:17:14.111509</dc:date>\n    <dc:format>image/svg+xml</dc:format>\n    <dc:creator>\n     <cc:Agent>\n      <dc:title>Matplotlib v3.3.3, https://matplotlib.org/</dc:title>\n     </cc:Agent>\n    </dc:creator>\n   </cc:Work>\n  </rdf:RDF>\n </metadata>\n <defs>\n  <style type=\"text/css\">*{stroke-linecap:butt;stroke-linejoin:round;}</style>\n </defs>\n <g id=\"figure_1\">\n  <g id=\"patch_1\">\n   <path d=\"M 0 231.84 \nL 231.84 231.84 \nL 231.84 0 \nL 0 0 \nz\n\" style=\"fill:none;\"/>\n  </g>\n  <g id=\"axes_1\">\n   <g clip-path=\"url(#pfa0d467bba)\">\n    <image height=\"218\" id=\"imagec9a1554b7a\" transform=\"scale(1 -1)translate(0 -218)\" width=\"218\" x=\"7.2\" xlink:href=\"data:image/png;base64,\niVBORw0KGgoAAAANSUhEUgAAANoAAADaCAYAAADAHVzbAAAEVElEQVR4nO3du4oVaRSA0XOkveIlEBMT9f1fx0RE0FBRaWzw2toTTb73MOdzZNaKN0Wdar6uZPPX8XA4XB2Ak7r2u28A/g+EBgGhQUBoEBAaBIQGAaFBQGgQEBoEhAYBoUFAaBAQGgSEBgGhQUBoEBAaBIQGAaFBQGgQEBoEhAYBoUFAaBAQGgSEBgGhQUBoEBAaBIQGAaFBQGgQEBoEhAYBoUFAaBAQGgSEBgGhQUBoEBAaBIQGAaFBQGgQEBoEhAYBoUFAaBAQGgSEBgGhQUBoEBAaBIQGAaFBQGgQEBoEhAYBoUFAaBAQGgSEBgGhQUBoEBAaBIQGAaFBQGgQEBoEhAYBoUFAaBAQGgSEBgGhQeDsd98A/O379+/j2bdv345nLy8vx7PH43E8++PHj/GsNxoEhAYBoUFAaBAQGgSEBgGhQUBoEBAaBIQGgePhcLj63TfB6daPfv78OZ7drBRt1prevXs3mvvy5cv4mp8/fx7Pbp7tqZ6BNxoEhAYBoUFAaBAQGgSEBgGhQUBoEBAaBIQGgdUK1sXFxfjC5+fn49nNisz79+9Hc9euzf+H3LhxYzx7dnaag8M2z+Dr16/j2c1a03RVanvdjx8/juY2v2uzKrW57mat6tatW+NZbzQICA0CQoOA0CAgNAgIDQJCg4DQICA0CAgNAsfLy8vxCtabN2/GF37x4sV4drOuNV0D26xVbT4+t7nuqWxOttqsdm1OltrMTlegTnUC1a9fv8azd+7cGc/evHlzPOuNBgGhQUBoEBAaBIQGAaFBQGgQEBoEhAYBoUHgbHOq08uXL8ezHz58GM++fv16PPvt27fR3PXr18fX3JyYtbG57ubvsFkp2tisNW3WpaY2z2Cz/rQ5rerZs2fj2YcPH45nvdEgIDQICA0CQoOA0CAgNAgIDQJCg4DQICA0CKy+qvfo0aOTzE4/Lng4zD9qtzkp6v79++PZzVrVZlXqVCtjm7WmzQlQd+/eHc9O73ezKvXgwYOTzD558mQ8+/jx4/GsNxoEhAYBoUFAaBAQGgSEBgGhQUBoEBAaBIQGgePhcBh/iHDj06dP49lXr16NZ58/fz6a23yA7/bt2+PZzfrT5qSozQrWZq1qc1LT06dPx7P37t0bz05tnu1mBey/8PFIbzQICA0CQoOA0CAgNAgIDQJCg4DQICA0CAgNAidbwTqVi4uL0dzV1fxnbU6rOtVHADcrWJv1o+Px+E9uh3+ZNxoEhAYBoUFAaBAQGgSEBgGhQUBoEBAaBIQGgT9uBQv+RN5oEBAaBIQGAaFBQGgQEBoEhAYBoUFAaBAQGgSEBgGhQUBoEBAaBIQGAaFBQGgQEBoEhAYBoUFAaBAQGgSEBgGhQUBoEBAaBIQGAaFBQGgQEBoEhAYBoUFAaBAQGgSEBgGhQUBoEBAaBIQGAaFBQGgQEBoEhAYBoUFAaBAQGgSEBgGhQUBoEBAaBIQGAaFBQGgQ+Asaj7+hy2oxygAAAABJRU5ErkJggg==\" y=\"-6.64\"/>\n   </g>\n  </g>\n </g>\n <defs>\n  <clipPath id=\"pfa0d467bba\">\n   <rect height=\"217.44\" width=\"217.44\" x=\"7.2\" y=\"7.2\"/>\n  </clipPath>\n </defs>\n</svg>\n",
      "image/png": "[encoded data removed]"
     },
     "metadata": {
      "needs_background": "light"
     }
    },
    {
     "output_type": "stream",
     "name": "stdout",
     "text": [
      "(1, 1, 20, 20)\nvariable([[9.9974716e-01 2.5281310e-04]])\n"
     ]
    },
    {
     "output_type": "display_data",
     "data": {
      "text/plain": "<Figure size 432x288 with 1 Axes>",
      "image/svg+xml": "<?xml version=\"1.0\" encoding=\"utf-8\" standalone=\"no\"?>\n<!DOCTYPE svg PUBLIC \"-//W3C//DTD SVG 1.1//EN\"\n  \"http://www.w3.org/Graphics/SVG/1.1/DTD/svg11.dtd\">\n<!-- Created with matplotlib (https://matplotlib.org/) -->\n<svg height=\"231.84pt\" version=\"1.1\" viewBox=\"0 0 231.84 231.84\" width=\"231.84pt\" xmlns=\"http://www.w3.org/2000/svg\" xmlns:xlink=\"http://www.w3.org/1999/xlink\">\n <metadata>\n  <rdf:RDF xmlns:cc=\"http://creativecommons.org/ns#\" xmlns:dc=\"http://purl.org/dc/elements/1.1/\" xmlns:rdf=\"http://www.w3.org/1999/02/22-rdf-syntax-ns#\">\n   <cc:Work>\n    <dc:type rdf:resource=\"http://purl.org/dc/dcmitype/StillImage\"/>\n    <dc:date>2021-01-23T16:17:14.207653</dc:date>\n    <dc:format>image/svg+xml</dc:format>\n    <dc:creator>\n     <cc:Agent>\n      <dc:title>Matplotlib v3.3.3, https://matplotlib.org/</dc:title>\n     </cc:Agent>\n    </dc:creator>\n   </cc:Work>\n  </rdf:RDF>\n </metadata>\n <defs>\n  <style type=\"text/css\">*{stroke-linecap:butt;stroke-linejoin:round;}</style>\n </defs>\n <g id=\"figure_1\">\n  <g id=\"patch_1\">\n   <path d=\"M 0 231.84 \nL 231.84 231.84 \nL 231.84 0 \nL 0 0 \nz\n\" style=\"fill:none;\"/>\n  </g>\n  <g id=\"axes_1\">\n   <g clip-path=\"url(#p57f5ae722e)\">\n    <image height=\"218\" id=\"imagea65b3ae97d\" transform=\"scale(1 -1)translate(0 -218)\" width=\"218\" x=\"7.2\" xlink:href=\"data:image/png;base64,\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\" y=\"-6.64\"/>\n   </g>\n  </g>\n </g>\n <defs>\n  <clipPath id=\"p57f5ae722e\">\n   <rect height=\"217.44\" width=\"217.44\" x=\"7.2\" y=\"7.2\"/>\n  </clipPath>\n </defs>\n</svg>\n",
      "image/png": "[encoded data removed]"
     },
     "metadata": {
      "needs_background": "light"
     }
    },
    {
     "output_type": "stream",
     "name": "stdout",
     "text": [
      "(1, 1, 20, 20)\nvariable([[1. 0.]])\n"
     ]
    },
    {
     "output_type": "display_data",
     "data": {
      "text/plain": "<Figure size 432x288 with 1 Axes>",
      "image/svg+xml": "<?xml version=\"1.0\" encoding=\"utf-8\" standalone=\"no\"?>\n<!DOCTYPE svg PUBLIC \"-//W3C//DTD SVG 1.1//EN\"\n  \"http://www.w3.org/Graphics/SVG/1.1/DTD/svg11.dtd\">\n<!-- Created with matplotlib (https://matplotlib.org/) -->\n<svg height=\"231.84pt\" version=\"1.1\" viewBox=\"0 0 231.84 231.84\" width=\"231.84pt\" xmlns=\"http://www.w3.org/2000/svg\" xmlns:xlink=\"http://www.w3.org/1999/xlink\">\n <metadata>\n  <rdf:RDF xmlns:cc=\"http://creativecommons.org/ns#\" xmlns:dc=\"http://purl.org/dc/elements/1.1/\" xmlns:rdf=\"http://www.w3.org/1999/02/22-rdf-syntax-ns#\">\n   <cc:Work>\n    <dc:type rdf:resource=\"http://purl.org/dc/dcmitype/StillImage\"/>\n    <dc:date>2021-01-23T16:17:14.302087</dc:date>\n    <dc:format>image/svg+xml</dc:format>\n    <dc:creator>\n     <cc:Agent>\n      <dc:title>Matplotlib v3.3.3, https://matplotlib.org/</dc:title>\n     </cc:Agent>\n    </dc:creator>\n   </cc:Work>\n  </rdf:RDF>\n </metadata>\n <defs>\n  <style type=\"text/css\">*{stroke-linecap:butt;stroke-linejoin:round;}</style>\n </defs>\n <g id=\"figure_1\">\n  <g id=\"patch_1\">\n   <path d=\"M 0 231.84 \nL 231.84 231.84 \nL 231.84 0 \nL 0 0 \nz\n\" style=\"fill:none;\"/>\n  </g>\n  <g id=\"axes_1\">\n   <g clip-path=\"url(#peaf1e75486)\">\n    <image height=\"218\" id=\"imaged6f204a04b\" transform=\"scale(1 -1)translate(0 -218)\" width=\"218\" x=\"7.2\" xlink:href=\"data:image/png;base64,\niVBORw0KGgoAAAANSUhEUgAAANoAAADaCAYAAADAHVzbAAAFXUlEQVR4nO3dvWvTXRzG4V8aY01tbCm+1JeC4CYU3Dt07t/rJI7iouCgg5ODg9KALbU1aKU2z/AMz/h8TzG3Tbyu+eYQ0E/Pckh6XddNu7/c06dPy9vJZFLe3rp1q7zt9/vl7eHhYXk7HA7L2729vfKWNkt/+gPA30BoECA0CBAaBAgNAoQGAUKDAKFBgNAgQGgQcOVPf4BZefHiRXn7/v378nZtbe0iH+d/nZ+fl7ctz8A2NjYu8nH4zdxoECA0CBAaBAgNAoQGAUKDAKFBgNAgQGgQIDQIWNgnWJ8/fy5vT09Py9vRaFTetjyrOjo6Km8Hg8FMtsyOGw0ChAYBQoMAoUGA0CBAaBAgNAgQGgQIDQKEBgEL+wRrPB6Xtw8ePChvt7a2ytv9/f3y9suXL+Xt/fv3y9udnZ3yltlxo0GA0CBAaBAgNAgQGgQIDQKEBgFCgwChQYDQIGDunmA9e/astHv16lX5zEePHpW3/X6/vP3161d522I4HM7kXGbHjQYBQoMAoUGA0CBAaBAgNAgQGgQIDQKEBgFCg4C5e4JV/cG+GzdulM/s9Xrl7bdv38rb4+Pj8vbKlfo/xerqannL5eBGgwChQYDQIEBoECA0CBAaBAgNAoQGAUKDgLl7GTKZTEq7u3fvls+8c+dOeTsYDMrbltceKysr5a0v55k/bjQIEBoECA0ChAYBQoMAoUGA0CBAaBAgNAgQGgRciidYL1++LG/fvn1b2m1ubpbPbHkqdXJyUt62/D7a8vJyefvkyZPylsvBjQYBQoMAoUGA0CBAaBAgNAgQGgQIDQKEBgFCg4BL8QTr4OCgvD07Oyvtrl69Wj7z58+f5W3L76O1nDsajcpb5o8bDQKEBgFCgwChQYDQIEBoECA0CBAaBAgNAoQGAZfiCdZ4PC5vq99Y1ev1ymd+//69vG35ZquWHwy8fft2ecv8caNBgNAgQGgQIDQIEBoECA0ChAYBQoMAoUGA0CBgZk+wXr9+Xd62/BDhtWvXSrvpdFo+s+WbrY6Pj8vblmdg169fL2+ZP240CBAaBAgNAoQGAUKDAKFBgNAgQGgQIDQIEBoEzOwJVstTpfPz8/J2fX29tLt37175zJbP2rKtfmMXi8+NBgFCgwChQYDQIEBoECA0CBAaBAgNAoQGAUKDgEvxBKvlG6uqP9j38OHD8plfv34tbyeTSXnb7/fL2+3t7fKW+eNGgwChQYDQIEBoECA0CBAaBAgNAoQGAUKDAKFBwMyeYJ2ens7k3LW1tdJuOByWz2x5VlX9IcSu67qlJX/H+Jf/CRAgNAgQGgQIDQKEBgFCgwChQYDQIEBoECA0CJjZE6yjo6Py9uzs7Lef+/Hjx/KZLd/YNR6Py9uNjY3ylsXmRoMAoUGA0CBAaBAgNAgQGgQIDQKEBgFCgwChQUDTE6x3796Vt8+fPy9vT05OytsPHz6Udp8+fSqfubKyUt62PC1bXl4ub1lsbjQIEBoECA0ChAYBQoMAoUGA0CBAaBAgNAhoehny48eP8rbX65W3g8GgvN3f3y/tptNp+cytra3ytuW1R8tvqbHY3GgQIDQIEBoECA0ChAYBQoMAoUGA0CBAaBAgNAhoeoLV8lTq5s2b5e3q6mp52+/3S7ulpfrfkM3NzfJ2OByWt7u7u+Uti82NBgFCgwChQYDQIEBoECA0CBAaBAgNAoQGAUKDgF7XdfWvi2rw5s2b8vbw8LC8HY1Gv3XXdV33+PHj8hYuwo0GAUKDAKFBgNAgQGgQIDQIEBoECA0ChAYBQoOAmT3BAv7jRoMAoUGA0CBAaBAgNAgQGgQIDQKEBgFCgwChQcA/CUTEeinFLI0AAAAASUVORK5CYII=\" y=\"-6.64\"/>\n   </g>\n  </g>\n </g>\n <defs>\n  <clipPath id=\"peaf1e75486\">\n   <rect height=\"217.44\" width=\"217.44\" x=\"7.2\" y=\"7.2\"/>\n  </clipPath>\n </defs>\n</svg>\n",
      "image/png": "[encoded data removed]"
     },
     "metadata": {
      "needs_background": "light"
     }
    },
    {
     "output_type": "stream",
     "name": "stdout",
     "text": [
      "(1, 1, 20, 20)\nvariable([[0.0041661 0.9958339]])\n"
     ]
    },
    {
     "output_type": "display_data",
     "data": {
      "text/plain": "<Figure size 432x288 with 1 Axes>",
      "image/svg+xml": "<?xml version=\"1.0\" encoding=\"utf-8\" standalone=\"no\"?>\n<!DOCTYPE svg PUBLIC \"-//W3C//DTD SVG 1.1//EN\"\n  \"http://www.w3.org/Graphics/SVG/1.1/DTD/svg11.dtd\">\n<!-- Created with matplotlib (https://matplotlib.org/) -->\n<svg height=\"231.84pt\" version=\"1.1\" viewBox=\"0 0 231.84 231.84\" width=\"231.84pt\" xmlns=\"http://www.w3.org/2000/svg\" xmlns:xlink=\"http://www.w3.org/1999/xlink\">\n <metadata>\n  <rdf:RDF xmlns:cc=\"http://creativecommons.org/ns#\" xmlns:dc=\"http://purl.org/dc/elements/1.1/\" xmlns:rdf=\"http://www.w3.org/1999/02/22-rdf-syntax-ns#\">\n   <cc:Work>\n    <dc:type rdf:resource=\"http://purl.org/dc/dcmitype/StillImage\"/>\n    <dc:date>2021-01-23T16:17:14.400583</dc:date>\n    <dc:format>image/svg+xml</dc:format>\n    <dc:creator>\n     <cc:Agent>\n      <dc:title>Matplotlib v3.3.3, https://matplotlib.org/</dc:title>\n     </cc:Agent>\n    </dc:creator>\n   </cc:Work>\n  </rdf:RDF>\n </metadata>\n <defs>\n  <style type=\"text/css\">*{stroke-linecap:butt;stroke-linejoin:round;}</style>\n </defs>\n <g id=\"figure_1\">\n  <g id=\"patch_1\">\n   <path d=\"M 0 231.84 \nL 231.84 231.84 \nL 231.84 0 \nL 0 0 \nz\n\" style=\"fill:none;\"/>\n  </g>\n  <g id=\"axes_1\">\n   <g clip-path=\"url(#p1ce38c6869)\">\n    <image height=\"218\" id=\"imageecc60b9058\" transform=\"scale(1 -1)translate(0 -218)\" width=\"218\" x=\"7.2\" xlink:href=\"data:image/png;base64,\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\" y=\"-6.64\"/>\n   </g>\n  </g>\n </g>\n <defs>\n  <clipPath id=\"p1ce38c6869\">\n   <rect height=\"217.44\" width=\"217.44\" x=\"7.2\" y=\"7.2\"/>\n  </clipPath>\n </defs>\n</svg>\n",
      "image/png": "[encoded data removed]"
     },
     "metadata": {
      "needs_background": "light"
     }
    },
    {
     "output_type": "stream",
     "name": "stdout",
     "text": [
      "(1, 1, 20, 20)\nvariable([[9.999991e-01 8.940697e-07]])\n"
     ]
    },
    {
     "output_type": "display_data",
     "data": {
      "text/plain": "<Figure size 432x288 with 1 Axes>",
      "image/svg+xml": "<?xml version=\"1.0\" encoding=\"utf-8\" standalone=\"no\"?>\n<!DOCTYPE svg PUBLIC \"-//W3C//DTD SVG 1.1//EN\"\n  \"http://www.w3.org/Graphics/SVG/1.1/DTD/svg11.dtd\">\n<!-- Created with matplotlib (https://matplotlib.org/) -->\n<svg height=\"231.84pt\" version=\"1.1\" viewBox=\"0 0 231.84 231.84\" width=\"231.84pt\" xmlns=\"http://www.w3.org/2000/svg\" xmlns:xlink=\"http://www.w3.org/1999/xlink\">\n <metadata>\n  <rdf:RDF xmlns:cc=\"http://creativecommons.org/ns#\" xmlns:dc=\"http://purl.org/dc/elements/1.1/\" xmlns:rdf=\"http://www.w3.org/1999/02/22-rdf-syntax-ns#\">\n   <cc:Work>\n    <dc:type rdf:resource=\"http://purl.org/dc/dcmitype/StillImage\"/>\n    <dc:date>2021-01-23T16:17:14.488142</dc:date>\n    <dc:format>image/svg+xml</dc:format>\n    <dc:creator>\n     <cc:Agent>\n      <dc:title>Matplotlib v3.3.3, https://matplotlib.org/</dc:title>\n     </cc:Agent>\n    </dc:creator>\n   </cc:Work>\n  </rdf:RDF>\n </metadata>\n <defs>\n  <style type=\"text/css\">*{stroke-linecap:butt;stroke-linejoin:round;}</style>\n </defs>\n <g id=\"figure_1\">\n  <g id=\"patch_1\">\n   <path d=\"M 0 231.84 \nL 231.84 231.84 \nL 231.84 0 \nL 0 0 \nz\n\" style=\"fill:none;\"/>\n  </g>\n  <g id=\"axes_1\">\n   <g clip-path=\"url(#pd7d0996d77)\">\n    <image height=\"218\" id=\"image76460d7420\" transform=\"scale(1 -1)translate(0 -218)\" width=\"218\" x=\"7.2\" xlink:href=\"data:image/png;base64,\niVBORw0KGgoAAAANSUhEUgAAANoAAADaCAYAAADAHVzbAAAFRUlEQVR4nO3dP0pcbRjG4eO/aIwkkPTWqezsswEhVnYiBIvswKzAWgjapLKW7MIiG0iRWBgkYKPiqKOMccwWnveDudV811XfHAbh59u8nDPWdd19B4zU+EP/APg/EBoECA0ChAYBQoMAoUGA0CBAaBAgNAgQGgQIDQKEBgFCgwChQYDQIEBoECA0CBAaBAgNAoQGAUKDAKFBgNAgQGgQIDQIEBoECA0ChAYBQoMAoUGA0CBAaBAw+dA/4DH4+PHjSJ47MTExkufe3t6Wt+Pj9f+lOzs7/+XnUOBEgwChQYDQIEBoECA0CBAaBAgNAoQGAUKDAKFBwFjXdfcP/SMeWr/fL2/v7+t/rsnJ+g23lqtSvV6vvJ2amipvX758Wd7SxokGAUKDAKFBgNAgQGgQIDQIEBoECA0ChAYBQoMAV7C6rtvY2ChvNzc3y9vBYFDetlztury8LG+fPXtW3m5tbZW3LdfLPn36VN7+q5xoECA0CBAaBAgNAoQGAUKDAKFBgNAgQGgQ4GZIo7Ozs/K25QbH3NzcSJ77/PnzkfyG6enp8vbNmzfl7SiMjY2VtycnJyP5DU40CBAaBAgNAoQGAUKDAKFBgNAgQGgQIDQIEBoEuILVaG1trby9vb0tbz9//lzetnwfreXlPC3XtVqeu7u7W9oNh8PyM1u+Jzc7O1verq6ulrctnGgQIDQIEBoECA0ChAYBQoMAoUGA0CBAaBAgNAhwBeuR2N/fL2/n5+fL25ZrTTMzM+Vty/fRqtel7u7uys9sebPVq1evytuFhYXy9vv37+WtEw0ChAYBQoMAoUGA0CBAaBAgNAgQGgQIDQKEBgGuYD0S7969K2/39vbK25Y3ZrVoua5VvVrV8tawlutaLVewvn37Vt4uLS2Vt040CBAaBAgNAoQGAUKDAKFBgNAgQGgQIDQIEBoEuIL1BH39+rW8XVxcLG9vbm7K25YPEVavS11fX5efORgMytuWK1ivX78ub9+/f1/eOtEgQGgQIDQIEBoECA0ChAYBQoMAoUGA0CBAaBDgCtYT9Pbt2/K25QOH5+fn5e3ExER5++fPn9Lu8vKy/MyWK1hzc3Plbct1rYODg/LWiQYBQoMAoUGA0CBAaBAgNAgQGgQIDQKEBgFCgwBXsP5x29vb5W2/3y9vV1ZWytvq27UuLi7Kz2z5aGHLFawXL16Uty1vAnOiQYDQIEBoECA0CBAaBAgNAoQGAUKDAKFBgNAgwBWsf1zLh/WGw2F5++PHj/L25OSktGt5C1bLb52dnS1vp6eny9uWN4E50SBAaBAgNAgQGgQIDQKEBgFCgwChQYDQIEBoEDD50D+A0To9PR3Jc7e2tsrb9fX10u7q6qr8zLu7u/K2+iHEruu68fH62dPyJi4nGgQIDQKEBgFCgwChQYDQIEBoECA0CBAaBAgNArwFi5E7Ojoq7Vqui52fn5e3LW+2avm44P19PR0nGgQIDQKEBgFCgwChQYDQIEBoECA0CBAaBLgZwsh9+PChtNvc3Cw/8/fv3+Vtv98vb1u+eeb7aPDICA0ChAYBQoMAoUGA0CBAaBAgNAgQGgQIDQJcweLRODw8LG9bvo92fHxc3g6Hw/J2amqqvHWiQYDQIEBoECA0CBAaBAgNAoQGAUKDAKFBgNAgwBUsHo3l5eXy9suXL+Xtr1+/ytvr6+vytuUamBMNAoQGAUKDAKFBgNAgQGgQIDQIEBoECA0ChAYBrmDxJN3c3JS3P3/+LG97vV55OxgMylsnGgQIDQKEBgFCgwChQYDQIEBoECA0CBAaBAgNAv4CgLbt+8UwuwQAAAAASUVORK5CYII=\" y=\"-6.64\"/>\n   </g>\n  </g>\n </g>\n <defs>\n  <clipPath id=\"pd7d0996d77\">\n   <rect height=\"217.44\" width=\"217.44\" x=\"7.2\" y=\"7.2\"/>\n  </clipPath>\n </defs>\n</svg>\n",
      "image/png": "[encoded data removed]"
     },
     "metadata": {
      "needs_background": "light"
     }
    },
    {
     "output_type": "stream",
     "name": "stdout",
     "text": [
      "(1, 1, 20, 20)\nvariable([[0. 1.]])\n"
     ]
    },
    {
     "output_type": "display_data",
     "data": {
      "text/plain": "<Figure size 432x288 with 1 Axes>",
      "image/svg+xml": "<?xml version=\"1.0\" encoding=\"utf-8\" standalone=\"no\"?>\n<!DOCTYPE svg PUBLIC \"-//W3C//DTD SVG 1.1//EN\"\n  \"http://www.w3.org/Graphics/SVG/1.1/DTD/svg11.dtd\">\n<!-- Created with matplotlib (https://matplotlib.org/) -->\n<svg height=\"231.84pt\" version=\"1.1\" viewBox=\"0 0 231.84 231.84\" width=\"231.84pt\" xmlns=\"http://www.w3.org/2000/svg\" xmlns:xlink=\"http://www.w3.org/1999/xlink\">\n <metadata>\n  <rdf:RDF xmlns:cc=\"http://creativecommons.org/ns#\" xmlns:dc=\"http://purl.org/dc/elements/1.1/\" xmlns:rdf=\"http://www.w3.org/1999/02/22-rdf-syntax-ns#\">\n   <cc:Work>\n    <dc:type rdf:resource=\"http://purl.org/dc/dcmitype/StillImage\"/>\n    <dc:date>2021-01-23T16:17:14.580322</dc:date>\n    <dc:format>image/svg+xml</dc:format>\n    <dc:creator>\n     <cc:Agent>\n      <dc:title>Matplotlib v3.3.3, https://matplotlib.org/</dc:title>\n     </cc:Agent>\n    </dc:creator>\n   </cc:Work>\n  </rdf:RDF>\n </metadata>\n <defs>\n  <style type=\"text/css\">*{stroke-linecap:butt;stroke-linejoin:round;}</style>\n </defs>\n <g id=\"figure_1\">\n  <g id=\"patch_1\">\n   <path d=\"M 0 231.84 \nL 231.84 231.84 \nL 231.84 0 \nL 0 0 \nz\n\" style=\"fill:none;\"/>\n  </g>\n  <g id=\"axes_1\">\n   <g clip-path=\"url(#pf6f594f275)\">\n    <image height=\"218\" id=\"imageb238400d73\" transform=\"scale(1 -1)translate(0 -218)\" width=\"218\" x=\"7.2\" xlink:href=\"data:image/png;base64,\niVBORw0KGgoAAAANSUhEUgAAANoAAADaCAYAAADAHVzbAAAFd0lEQVR4nO3dsWoVeRjG4ZkYjya2Btt4G5IbCAgiCLZGG9FKSGGrIJZCCkG0sLVSC2/BznvQ0kpBQXNiTrZa2PL7lp03J9nnqV/Gg/DLv/kzMw7DcDRM4PPnz+XtxsZGebtYLEq79fX18jNv3LhR3r59+7a8hb+tHPcPgP8DoUGA0CBAaBAgNAgQGgQIDQKEBgFCgwChQcA4THQF68uXL+XtpUuXytv5fF7azWaz8jPPnTtX3u7s7JS3r1+/Lm853ZxoECA0CBAaBAgNAoQGAUKDAKFBgNAgQGgQIDQIWD3uHzAMw7CyUu/96Kh2Y2x/f7/8zHEcy9vqW7jgn5xoECA0CBAaBAgNAoQGAUKDAKFBgNAgQGgQIDQImOwtWB2fPn0qby9fvlzaVa9qDcMwrK7Wb6J1rovt7u6Wty9evChvOXmcaBAgNAgQGgQIDQKEBgFCgwChQYDQIEBoECA0CFiKt2B1rkCdOXOmtDs4OCg/88+fP+Vt52rX3t5eeXvx4sXy9smTJ+Uty8GJBgFCgwChQYDQIEBoECA0CBAaBAgNAoQGAUKDgKW4gtX5EGBnW9W5VtX59+/fv1/evnr1qrzl5HGiQYDQIEBoECA0CBAaBAgNAoQGAUKDAKFBwFLcDKm+cGcYhmE2m5V2U72c5+zZs+Xt8+fPy9uNjY3y9unTp+Uty8GJBgFCgwChQYDQIEBoECA0CBAaBAgNAoQGAUKDgHEYhvqbaU6Qd+/elbdbW1vl7eHhYXnbuVrW+Ubcs2fPyttHjx6Vt0zHiQYBQoMAoUGA0CBAaBAgNAgQGgQIDQKEBgFCg4CleAvWFDrXnzp+/fpV3v7+/XuS33D79u3ydm1trbx9+PDhv/k5FDjRIEBoECA0CBAaBAgNAoQGAUKDAKFBgNAgQGgQcGqvYHV0PkQ4n8/L28ViUd523oI1jmN5e/fu3fK28zHEO3fulLc40SBCaBAgNAgQGgQIDQKEBgFCgwChQYDQIEBoEHBqr2CdP3++vL1w4UJ527lW1bnaNdVHCzs6v5ceJxoECA0ChAYBQoMAoUGA0CBAaBAgNAgQGgQIDQLGYRiOjvtHHLc3b96Ut1evXi1vO1eaDg8Py9uOztWuzkcLP3z4UN5ev369vD2tnGgQIDQIEBoECA0ChAYBQoMAoUGA0CBAaBAgNAg4tW/B6rh582Z5+/Lly0mee3RUvwnXua51cHAwyXN//vxZ3uJEgwihQYDQIEBoECA0CBAaBAgNAoQGAUKDAKFBgCtYTeM4lreda1WdN2ZNdV2r8xu2t7fL2/fv35d2165dKz/zpHGiQYDQIEBoECA0CBAaBAgNAoQGAUKDAKFBgNAgwBWsps6H/Tqm+hBhR+eNWZ3rWltbW6Xdx48fy8+8cuVKebsMnGgQIDQIEBoECA0ChAYBQoMAoUGA0CBAaBAgNAhwBatpZ2envP369Wt5e+vWrfK2c1VqqjdmTfGGr84zTxonGgQIDQKEBgFCgwChQYDQIEBoECA0CBAaBLgZMqHOi3w6313r3AxZLBblbUfn91ZN9VuXgRMNAoQGAUKDAKFBgNAgQGgQIDQIEBoECA0ChAYBrmBNaHW1/t/b2XZeYtO5KjWbzcrblZX63+jqVbRl+EbcVJxoECA0CBAaBAgNAoQGAUKDAKFBgNAgQGgQIDQIcAVrQg8ePChvv3//Xt7eu3evvO1c11pfX5/kufv7+//p7iRyokGA0CBAaBAgNAgQGgQIDQKEBgFCgwChQYDQIGAchqF+l4al0Lna9fjx4/K28xas+Xxe3v748aO067xZa21trbz99u1bebu5uVnedjjRIEBoECA0CBAaBAgNAoQGAUKDAKFBgNAgQGgQ8Bdpiu9JUatt6AAAAABJRU5ErkJggg==\" y=\"-6.64\"/>\n   </g>\n  </g>\n </g>\n <defs>\n  <clipPath id=\"pf6f594f275\">\n   <rect height=\"217.44\" width=\"217.44\" x=\"7.2\" y=\"7.2\"/>\n  </clipPath>\n </defs>\n</svg>\n",
      "image/png": "[encoded data removed]"
     },
     "metadata": {
      "needs_background": "light"
     }
    },
    {
     "output_type": "stream",
     "name": "stdout",
     "text": [
      "(1, 1, 20, 20)\nvariable([[0. 1.]])\n"
     ]
    },
    {
     "output_type": "display_data",
     "data": {
      "text/plain": "<Figure size 432x288 with 1 Axes>",
      "image/svg+xml": "<?xml version=\"1.0\" encoding=\"utf-8\" standalone=\"no\"?>\n<!DOCTYPE svg PUBLIC \"-//W3C//DTD SVG 1.1//EN\"\n  \"http://www.w3.org/Graphics/SVG/1.1/DTD/svg11.dtd\">\n<!-- Created with matplotlib (https://matplotlib.org/) -->\n<svg height=\"231.84pt\" version=\"1.1\" viewBox=\"0 0 231.84 231.84\" width=\"231.84pt\" xmlns=\"http://www.w3.org/2000/svg\" xmlns:xlink=\"http://www.w3.org/1999/xlink\">\n <metadata>\n  <rdf:RDF xmlns:cc=\"http://creativecommons.org/ns#\" xmlns:dc=\"http://purl.org/dc/elements/1.1/\" xmlns:rdf=\"http://www.w3.org/1999/02/22-rdf-syntax-ns#\">\n   <cc:Work>\n    <dc:type rdf:resource=\"http://purl.org/dc/dcmitype/StillImage\"/>\n    <dc:date>2021-01-23T16:17:14.670397</dc:date>\n    <dc:format>image/svg+xml</dc:format>\n    <dc:creator>\n     <cc:Agent>\n      <dc:title>Matplotlib v3.3.3, https://matplotlib.org/</dc:title>\n     </cc:Agent>\n    </dc:creator>\n   </cc:Work>\n  </rdf:RDF>\n </metadata>\n <defs>\n  <style type=\"text/css\">*{stroke-linecap:butt;stroke-linejoin:round;}</style>\n </defs>\n <g id=\"figure_1\">\n  <g id=\"patch_1\">\n   <path d=\"M 0 231.84 \nL 231.84 231.84 \nL 231.84 0 \nL 0 0 \nz\n\" style=\"fill:none;\"/>\n  </g>\n  <g id=\"axes_1\">\n   <g clip-path=\"url(#p8b5c4e4da4)\">\n    <image height=\"218\" id=\"image13fe227ac3\" transform=\"scale(1 -1)translate(0 -218)\" width=\"218\" x=\"7.2\" xlink:href=\"data:image/png;base64,\niVBORw0KGgoAAAANSUhEUgAAANoAAADaCAYAAADAHVzbAAAD8klEQVR4nO3dMU5VWxiG4S3cYGGlGCt0BpY6Bh2BJWOwMA7BghCH4AhoHAGDMFQmhMJKGy08oFFvd+t/J55Xrz5P/WVJSF5Ws+K+tizLjwXYqp1f/QPA30BoEBAaBIQGAaFBQGgQEBoEhAYBoUFAaBAQGgSEBgGhQUBoEBAaBIQGAaFBQGgQEBoEhAYBoUFAaBAQGgSEBgGhQUBoEBAaBIQGAaFBQGgQEBoEhAYBoUFAaBAQGgSEBgGhQUBoEBAaBIQGAaFBQGgQEBoEhAYBoUFAaBAQGgSEBgGhQUBoEBAaBIQGAaFBQGgQEBoEhAYBoUFAaBAQGgSEBgGhQUBoEBAaBIQGAaFBQGgQEBoEhAYBoUFAaBAQGgSEBgGhQUBoEBAaBIQGAaFBQGgQEBoEhAYBoUFAaBAQGgSEBgGhQUBoEBAaBIQGAaFBQGgQEBoEhAYBoUFAaBAQGgSEBgGhQUBoEBAaBIQGAaFBQGgQEBoEhAYBoUFAaBAQGgSEBgGhQUBoEBAaBIQGAaFBQGgQEBoEhAYBoUFAaBAQGgSEBgGhQUBoEBAaBIQGAaFBQGgQEBoEhAYBoUFAaBD4Z8341q1b4+2HDx/G281mM96enZ2Ndg8ePBifCdvmRoOA0CAgNAgIDQJCg4DQICA0CAgNAkKDgNAgcG1Zlh/bOPjevXvj7du3b8fbnZ3Z34arq6vxmR8/fvzp//6yLMudO3fG2+Pj4/H22bNn4y2/BzcaBIQGAaFBQGgQEBoEhAYBoUFAaBAQGgSEBoGtPcH61R49ejTevn79erxd81zs8vJyvD04OBhvX758Od6+ePFivGV73GgQEBoEhAYBoUFAaBAQGgSEBgGhQUBoEBAaBP7YJ1hrPHnyZLx99erVeLvmudb379/H2zUfhLx9+/Z4u7e3N96u+Z2dnJyMt38qNxoEhAYBoUFAaBAQGgSEBgGhQUBoEBAaBLwM+U08f/58vH369Ol4e3FxMd5++fJlvL1x48Z4u7+/P9qt+abe/fv3x9s3b96Mt9viRoOA0CAgNAgIDQJCg4DQICA0CAgNAkKDgNAg4AnW/9DR0dF4e3h4ON6en5+Pt5vNZry9fv36aHfz5s2ffuayLMvu7u54++3bt/H27t27460bDQJCg4DQICA0CAgNAkKDgNAgIDQICA0CQoOAJ1j8Z8233x4/fjzevnv3brT7/Pnz+Mydnfkd8fXr1/F2zdOyNf8TmBsNAkKDgNAgIDQICA0CQoOA0CAgNAgIDQJCg4AnWGzd6enpaPfw4cPxme/fvx9vP336NN6ueQa25sONbjQICA0CQoOA0CAgNAgIDQJCg4DQICA0CAgNAv8CJ5VrKmKPbgoAAAAASUVORK5CYII=\" y=\"-6.64\"/>\n   </g>\n  </g>\n </g>\n <defs>\n  <clipPath id=\"p8b5c4e4da4\">\n   <rect height=\"217.44\" width=\"217.44\" x=\"7.2\" y=\"7.2\"/>\n  </clipPath>\n </defs>\n</svg>\n",
      "image/png": "[encoded data removed]"
     },
     "metadata": {
      "needs_background": "light"
     }
    },
    {
     "output_type": "stream",
     "name": "stdout",
     "text": [
      "(1, 1, 20, 20)\nvariable([[0. 1.]])\n"
     ]
    },
    {
     "output_type": "display_data",
     "data": {
      "text/plain": "<Figure size 432x288 with 1 Axes>",
      "image/svg+xml": "<?xml version=\"1.0\" encoding=\"utf-8\" standalone=\"no\"?>\n<!DOCTYPE svg PUBLIC \"-//W3C//DTD SVG 1.1//EN\"\n  \"http://www.w3.org/Graphics/SVG/1.1/DTD/svg11.dtd\">\n<!-- Created with matplotlib (https://matplotlib.org/) -->\n<svg height=\"231.84pt\" version=\"1.1\" viewBox=\"0 0 231.84 231.84\" width=\"231.84pt\" xmlns=\"http://www.w3.org/2000/svg\" xmlns:xlink=\"http://www.w3.org/1999/xlink\">\n <metadata>\n  <rdf:RDF xmlns:cc=\"http://creativecommons.org/ns#\" xmlns:dc=\"http://purl.org/dc/elements/1.1/\" xmlns:rdf=\"http://www.w3.org/1999/02/22-rdf-syntax-ns#\">\n   <cc:Work>\n    <dc:type rdf:resource=\"http://purl.org/dc/dcmitype/StillImage\"/>\n    <dc:date>2021-01-23T16:17:14.766156</dc:date>\n    <dc:format>image/svg+xml</dc:format>\n    <dc:creator>\n     <cc:Agent>\n      <dc:title>Matplotlib v3.3.3, https://matplotlib.org/</dc:title>\n     </cc:Agent>\n    </dc:creator>\n   </cc:Work>\n  </rdf:RDF>\n </metadata>\n <defs>\n  <style type=\"text/css\">*{stroke-linecap:butt;stroke-linejoin:round;}</style>\n </defs>\n <g id=\"figure_1\">\n  <g id=\"patch_1\">\n   <path d=\"M 0 231.84 \nL 231.84 231.84 \nL 231.84 0 \nL 0 0 \nz\n\" style=\"fill:none;\"/>\n  </g>\n  <g id=\"axes_1\">\n   <g clip-path=\"url(#p4dfc27ec6c)\">\n    <image height=\"218\" id=\"imagebda3e17b2b\" transform=\"scale(1 -1)translate(0 -218)\" width=\"218\" x=\"7.2\" xlink:href=\"data:image/png;base64,\niVBORw0KGgoAAAANSUhEUgAAANoAAADaCAYAAADAHVzbAAAD/UlEQVR4nO3du01lSRRA0cenAQHCIwoiIglEHsSAjY/IoYWNhLodEsAAA8QfOoUqad5memYt++iq9MTmOke3VhaLxdcCWKrV7z4A/B8IDQJCg4DQICA0CAgNAkKDgNAgIDQICA0CQoOA0CAgNAgIDQJCg4DQICA0CAgNAkKDgNAgIDQICA0CQoOA0CAgNAgIDQJCg4DQICA0CAgNAkKDgNAgIDQICA0CQoOA0CAgNAgIDQJCg4DQICA0CAgNAkKDgNAgIDQICA0CQoOA0CAgNAgIDQJCg4DQICA0CAgNAkKDgNAgIDQICA0CQoOA0CAgNAgIDQJCg4DQICA0CAgNAkKDgNAgIDQICA0CQoOA0CAgNAgIDQJCg4DQICA0CAgNAkKDgNAgIDQICA0CQoOA0CAgNAgIDQJCg4DQICA0CAgNAkKDgNAgIDQICA0CQoOA0CAgNAgIDQJCg4DQICA0CAgNAkKDgNAgIDQICA0CQoOA0CAgNAgIDQJCg4DQICA0CAgNAkKDgNAgIDQICA0CQoOA0CAgNAgIDQJCg4DQICA0CAgNAkKDgNAgIDQICA0CQoOA0CAgNAgIDQJCg4DQICA0CAgNAkKDgNAgIDQIrH/3Afg7bW9vD89eX18PzR0dHQ0/8/z8fHj27OxsePbw8HB4doY3GgSEBgGhQUBoEBAaBIQGAaFBQGgQEBoEhAaBlcVi8fXdh2DOzc3N8OzHx8fw7Ofn5/Dsy8vLP/7cjY2N4Weura0Nz359jf+Jn5ycDM+enp4Oz3qjQUBoEBAaBIQGAaFBQGgQEBoEhAYBoUFAaBDwFaxJv379Gp59e3sbnp1Zlbq7uxueXVlZGZ7d29sbnp1Zl5r5HZZh5jdYFm80CAgNAkKDgNAgIDQICA0CQoOA0CAgNAj8Kz7OM3PX1uXl5dDczDbCjx8/ljI7Y+a8q6vj/x9nPrizubm5lDO8v78Pza2vjy8qzcz+/PlzeNb9aPAXExoEhAYBoUFAaBAQGgSEBgGhQUBoEBAaBNZ///49PPz6+jo8O3Mn1dbW1vDs6L1cM6tHM+tEOzs7S3nu7e3t8OzMh3xmftuZ887cT3ZxcTE0d3x8PPzMv403GgSEBgGhQUBoEBAaBIQGAaFBQGgQEBoEhAaBlaurq+FdqZl1npk7qfb394dnR1er7u/vh5/58PAwPLusNaXHx8fh2ZkVrGXdefb09DQ8e3BwMDz7X+WNBgGhQUBoEBAaBIQGAaFBQGgQEBoEhAYBoUFgfebLVjMX1c2sa+3u7g7Pjq5APT8/Dz9zZgVr5utaM2toM18NmznDzO8wszJmrWqONxoEhAYBoUFAaBAQGgSEBgGhQUBoEBAaBIQGgT+kzYZ/PeWJQAAAAABJRU5ErkJggg==\" y=\"-6.64\"/>\n   </g>\n  </g>\n </g>\n <defs>\n  <clipPath id=\"p4dfc27ec6c\">\n   <rect height=\"217.44\" width=\"217.44\" x=\"7.2\" y=\"7.2\"/>\n  </clipPath>\n </defs>\n</svg>\n",
      "image/png": "[encoded data removed]"
     },
     "metadata": {
      "needs_background": "light"
     }
    },
    {
     "output_type": "stream",
     "name": "stdout",
     "text": [
      "(1, 1, 20, 20)\nvariable([[0. 1.]])\n"
     ]
    },
    {
     "output_type": "display_data",
     "data": {
      "text/plain": "<Figure size 432x288 with 1 Axes>",
      "image/svg+xml": "<?xml version=\"1.0\" encoding=\"utf-8\" standalone=\"no\"?>\n<!DOCTYPE svg PUBLIC \"-//W3C//DTD SVG 1.1//EN\"\n  \"http://www.w3.org/Graphics/SVG/1.1/DTD/svg11.dtd\">\n<!-- Created with matplotlib (https://matplotlib.org/) -->\n<svg height=\"231.84pt\" version=\"1.1\" viewBox=\"0 0 231.84 231.84\" width=\"231.84pt\" xmlns=\"http://www.w3.org/2000/svg\" xmlns:xlink=\"http://www.w3.org/1999/xlink\">\n <metadata>\n  <rdf:RDF xmlns:cc=\"http://creativecommons.org/ns#\" xmlns:dc=\"http://purl.org/dc/elements/1.1/\" xmlns:rdf=\"http://www.w3.org/1999/02/22-rdf-syntax-ns#\">\n   <cc:Work>\n    <dc:type rdf:resource=\"http://purl.org/dc/dcmitype/StillImage\"/>\n    <dc:date>2021-01-23T16:17:14.864848</dc:date>\n    <dc:format>image/svg+xml</dc:format>\n    <dc:creator>\n     <cc:Agent>\n      <dc:title>Matplotlib v3.3.3, https://matplotlib.org/</dc:title>\n     </cc:Agent>\n    </dc:creator>\n   </cc:Work>\n  </rdf:RDF>\n </metadata>\n <defs>\n  <style type=\"text/css\">*{stroke-linecap:butt;stroke-linejoin:round;}</style>\n </defs>\n <g id=\"figure_1\">\n  <g id=\"patch_1\">\n   <path d=\"M 0 231.84 \nL 231.84 231.84 \nL 231.84 0 \nL 0 0 \nz\n\" style=\"fill:none;\"/>\n  </g>\n  <g id=\"axes_1\">\n   <g clip-path=\"url(#p0fb0db0bcf)\">\n    <image height=\"218\" id=\"image3cb9e8a522\" transform=\"scale(1 -1)translate(0 -218)\" width=\"218\" x=\"7.2\" xlink:href=\"data:image/png;base64,\niVBORw0KGgoAAAANSUhEUgAAANoAAADaCAYAAADAHVzbAAADvklEQVR4nO3dO0okUQCG0e7xgYqCK3D/GzE3EA00UARFVFR8IPiaYBYwt4T+dJhz4p/ign5Ucqmez2azzxmwUL+++wDwPxAaBIQGAaFBQGgQEBoEhAYBoUFAaBAQGgSEBgGhQUBoEBAaBIQGAaFBQGgQEBoEhAYBoUFAaBAQGgSEBgGhQUBoEBAaBIQGAaFBQGgQEBoEhAYBoUFAaBAQGgSEBgGhQUBoEBAaBIQGAaFBQGgQEBoEhAYBoUFAaBAQGgSEBgGhQUBoEBAaBIQGAaFBQGgQEBoEhAYBoUFAaBAQGgSEBgGhQUBoEBAaBIQGAaFBQGgQEBoEhAYBoUFAaBAQGgSEBgGhQUBoEBAaBIQGAaFBQGgQEBoEhAYBoUFAaBAQGgSEBgGhQUBoEBAaBJa/+wD88f7+Prx9fn4e3n58fHzlOH+1ubk5vF1aWlrIGf4l3mgQEBoEhAYBoUFAaBAQGgSEBgGhQUBoEBAaBOaz2ezzuw9xc3MzvN3d3R3anZ2dDT/z5eVleHt9fT28fXh4GN6enp4Obx8fH4e3n5/jf94p17VWV1eHt+vr60O7jY2N4WcuL4/fHtza2hrebm9vD2+n/N94o0FAaBAQGgSEBgGhQUBoEBAaBIQGAaFBQGgQmHQF6+TkZPjBU64UXVxcDG+Pjo6GdpeXl8PPfHt7G95eXV0Nb4+Pj4e39/f3w9u1tbXh7aK+QDWfz4e3o9elpvwdpmynXNeasnUFC34YoUFAaBAQGgSEBgGhQUBoEBAaBIQGAaFB4Ed8BWuKvb29od3BwcHwM6d8Mevp6Wl4e3d3N7x9fX0d3u7s7Axvp3zVaVHXtUZ/ZHHKVbwpV+GmXNea8iWw8/Pz4a03GgSEBgGhQUBoEBAaBIQGAaFBQGgQEBoEhAaBf+4K1iJM+bG+Kdd5VlZWvnIcBkz5ytnt7e3wdn9/f3h7eHg4vPVGg4DQICA0CAgNAkKDgNAgIDQICA0CQoOA0CDgChYEvNEgIDQICA0CQoOA0CAgNAgIDQJCg4DQICA0CAgNAkKDgNAgIDQICA0CQoOA0CAgNAgIDQJCg4DQICA0CAgNAkKDgNAgIDQICA0CQoOA0CAgNAgIDQJCg4DQICA0CAgNAkKDgNAgIDQICA0CQoOA0CAgNAgIDQJCg4DQICA0CAgNAkKDgNAgIDQICA0CQoOA0CAgNAgIDQJCg4DQICA0CAgNAkKDgNAgIDQICA0CQoOA0CAgNAgIDQJCg4DQICA0CAgNAkKDgNAgIDQICA0CvwGXE4PXYCr3wgAAAABJRU5ErkJggg==\" y=\"-6.64\"/>\n   </g>\n  </g>\n </g>\n <defs>\n  <clipPath id=\"p0fb0db0bcf\">\n   <rect height=\"217.44\" width=\"217.44\" x=\"7.2\" y=\"7.2\"/>\n  </clipPath>\n </defs>\n</svg>\n",
      "image/png": "[encoded data removed]"
     },
     "metadata": {
      "needs_background": "light"
     }
    },
    {
     "output_type": "stream",
     "name": "stdout",
     "text": [
      "(1, 1, 20, 20)\nvariable([[0.04821521 0.9517848 ]])\n"
     ]
    },
    {
     "output_type": "display_data",
     "data": {
      "text/plain": "<Figure size 432x288 with 1 Axes>",
      "image/svg+xml": "<?xml version=\"1.0\" encoding=\"utf-8\" standalone=\"no\"?>\n<!DOCTYPE svg PUBLIC \"-//W3C//DTD SVG 1.1//EN\"\n  \"http://www.w3.org/Graphics/SVG/1.1/DTD/svg11.dtd\">\n<!-- Created with matplotlib (https://matplotlib.org/) -->\n<svg height=\"231.84pt\" version=\"1.1\" viewBox=\"0 0 231.84 231.84\" width=\"231.84pt\" xmlns=\"http://www.w3.org/2000/svg\" xmlns:xlink=\"http://www.w3.org/1999/xlink\">\n <metadata>\n  <rdf:RDF xmlns:cc=\"http://creativecommons.org/ns#\" xmlns:dc=\"http://purl.org/dc/elements/1.1/\" xmlns:rdf=\"http://www.w3.org/1999/02/22-rdf-syntax-ns#\">\n   <cc:Work>\n    <dc:type rdf:resource=\"http://purl.org/dc/dcmitype/StillImage\"/>\n    <dc:date>2021-01-23T16:17:15.057353</dc:date>\n    <dc:format>image/svg+xml</dc:format>\n    <dc:creator>\n     <cc:Agent>\n      <dc:title>Matplotlib v3.3.3, https://matplotlib.org/</dc:title>\n     </cc:Agent>\n    </dc:creator>\n   </cc:Work>\n  </rdf:RDF>\n </metadata>\n <defs>\n  <style type=\"text/css\">*{stroke-linecap:butt;stroke-linejoin:round;}</style>\n </defs>\n <g id=\"figure_1\">\n  <g id=\"patch_1\">\n   <path d=\"M 0 231.84 \nL 231.84 231.84 \nL 231.84 0 \nL 0 0 \nz\n\" style=\"fill:none;\"/>\n  </g>\n  <g id=\"axes_1\">\n   <g clip-path=\"url(#p7d6ba6456f)\">\n    <image height=\"218\" id=\"image98e85a207b\" transform=\"scale(1 -1)translate(0 -218)\" width=\"218\" x=\"7.2\" xlink:href=\"data:image/png;base64,\niVBORw0KGgoAAAANSUhEUgAAANoAAADaCAYAAADAHVzbAAAFjElEQVR4nO3dzUtWCxfG4W3WYwpWDkwIDEdNGvffBw1D+hhESKBCqDQIS03S/Oo5ozM+ax3Yt2bXNb7ZeM55f++eLPYzMwzDdABGdee6/wD4GwgNAoQGAUKDAKFBgNAgQGgQIDQIEBoECA0ChAYBQoMAoUGA0CBAaBAgNAgQGgQIDQKEBgFCgwChQYDQIEBoECA0CBAaBAgNAoQGAUKDAKFBgNAgQGgQIDQIEBoECA0ChAYBQoMAoUGA0CBAaBAgNAgQGgQIDQKEBgF3r/sPGIZh+Pr1a3n7+PHjEf8SGIc3GgQIDQKEBgFCgwChQYDQIEBoECA0CBAaBAgNAmaGYZiO8eCdnZ3y9vv37+Xto0ePSru1tbXyM2Fs3mgQIDQIEBoECA0ChAYBQoMAoUGA0CBAaBDQugz58uVL+cG7u7vl7cnJSXl7dXVV2i0uLpaf+ezZs/J2aWmpvIV/eaNBgNAgQGgQIDQIEBoECA0ChAYBQoMAoUGA0CCg9ftoBwcH5e3x8XF5e3R0VN5WT7D29/fLz/z582d52zktW11dLW+53bzRIEBoECA0CBAaBAgNAoQGAUKDAKFBgNAgQGgQ0DrBevDgQXn7+fPn8rZzLnX3bu1Pnkwm5Wd2TsA2NzfL285vxD19+rS85c/jjQYBQoMAoUGA0CBAaBAgNAgQGgQIDQKEBgFCg4DWCda3b9/K286Xpc7Pz8vby8vL0u7379/lZ3Z0nru9vV3edn7k8cmTJ+UtN4M3GgQIDQKEBgFCgwChQYDQIEBoECA0CBAaBAgNAlonWJ1TqbOzs/J2Op2WtxcXF6Vd9QcLh6H3z3VyclLeds7QOs99+/Zteds513LaNR5vNAgQGgQIDQKEBgFCgwChQYDQIEBoECA0CBAaBLROsDqnUr9+/RplW3XnTv3/Qzrb09PT8rZzgnV8fFze7u3tlbcbGxvl7evXr8vbFy9elLfVH4+8zbzRIEBoECA0CBAaBAgNAoQGAUKDAKFBgNAgQGgQ0LqNWVhYKG8XFxfL24ODg/K2egLVOfsZ61xrLJPJpLzt/HDi1tZWeds5mzs6OirtHj58WH7mn+b6/1cDfwGhQYDQIEBoECA0CBAaBAgNAoQGAUKDAKFBwMwwDOVPW3XObj58+FDevnv3rrw9PDws7TqnR5eXl+Vt5wSrc1LUOVmbm5srbzunaJ1/D53nLi8vl3adf1/z8/PlbecHFsc6A/NGgwChQYDQIEBoECA0CBAaBAgNAoQGAUKDAKFBQOsrWPfv3x/lj3j16lV5++nTp9Lux48f5Wd2zqpmZ2fL23v37pW3HZ0fOOycoo2l+vfOzMyUn9n5EljnRx47Oj/M6Y0GAUKDAKFBgNAgQGgQIDQIEBoECA0ChAYBQoOA1lewboLquVb1VGsY6l/W6up8qalzrtX5AlXHWF8Ou24rKyvl7fPnz8vbzg9zeqNBgNAgQGgQIDQIEBoECA0ChAYBQoMAoUHAH3cZUvXy5cvydmNjo7w9PT0tbzsfm+nofCRprA8Eda5Iqh8/ugkfEupc3bgMgRtGaBAgNAgQGgQIDQKEBgFCgwChQYDQIEBoEHBrT7DOz8/L2/X19fJ2e3u7vN3f3y9vLy4uytvOWdXc3Fx52/mduDG2nWeO9SGhq6ur8rbz38EbDQKEBgFCgwChQYDQIEBoECA0CBAaBAgNAoQGAbf2BGssm5ub5e2bN2/K2729vfK2cybUOWvqfLWr8yWu2dnZ0m6s333rnGB1Trum03o63mgQIDQIEBoECA0ChAYBQoMAoUGA0CBAaBAgNAhwgjWi9+/fl7cfP34sbw8PD//HX/PfOl8O65wqTSaT0m6sc7GbwBsNAoQGAUKDAKFBgNAgQGgQIDQIEBoECA0ChAYB/wCTQiGws/ShFgAAAABJRU5ErkJggg==\" y=\"-6.64\"/>\n   </g>\n  </g>\n </g>\n <defs>\n  <clipPath id=\"p7d6ba6456f\">\n   <rect height=\"217.44\" width=\"217.44\" x=\"7.2\" y=\"7.2\"/>\n  </clipPath>\n </defs>\n</svg>\n",
      "image/png": "[encoded data removed]"
     },
     "metadata": {
      "needs_background": "light"
     }
    },
    {
     "output_type": "stream",
     "name": "stdout",
     "text": [
      "(1, 1, 20, 20)\nvariable([[9.9999881e-01 1.1622906e-06]])\n"
     ]
    }
   ],
   "source": [
    "\n",
    "for arr in X_test[0:10]:\n",
    "    x = Variable(np.array([arr], dtype=np.float32))\n",
    "    my_cv.display_gray(arr[0]*255)\n",
    "    print(np.shape(x))\n",
    "    y = model.forward(x)\n",
    "    print(y)"
   ]
  },
  {
   "cell_type": "code",
   "execution_count": null,
   "metadata": {},
   "outputs": [],
   "source": [
    "x"
   ]
  }
 ]
}